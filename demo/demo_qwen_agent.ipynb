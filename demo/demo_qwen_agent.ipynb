{
 "cells": [
  {
   "cell_type": "markdown",
   "id": "cdf9e03b-a513-4b81-a75e-243f38a3c84a",
   "metadata": {},
   "source": [
    "## 初始化"
   ]
  },
  {
   "cell_type": "code",
   "execution_count": 1,
   "id": "3851d799-7162-4e73-acab-3c13cb1e43bd",
   "metadata": {},
   "outputs": [],
   "source": [
    "%load_ext autoreload\n",
    "%autoreload 2\n"
   ]
  },
  {
   "cell_type": "code",
   "execution_count": 2,
   "id": "2c1ede08-857f-4592-9093-d7e5a37ce245",
   "metadata": {},
   "outputs": [],
   "source": [
    "import sys\n",
    "sys.path.append('../')\n"
   ]
  },
  {
   "cell_type": "markdown",
   "id": "ad42f062-5664-44f8-82b7-6995a4f512a0",
   "metadata": {},
   "source": [
    "## Load cfg and initialize"
   ]
  },
  {
   "cell_type": "code",
   "execution_count": 3,
   "id": "84f06ad1-34c5-4032-9254-aab88d7fe19d",
   "metadata": {},
   "outputs": [
    {
     "name": "stderr",
     "output_type": "stream",
     "text": [
      "2023-08-30 19:06:43,492 - modelscope - INFO - PyTorch version 2.0.1+cu117 Found.\n",
      "2023-08-30 19:06:43,497 - modelscope - INFO - Loading ast index from /mnt/workspace/.cache/modelscope/ast_indexer\n",
      "2023-08-30 19:06:43,520 - modelscope - INFO - Loading done! Current index file version is 1.8.4, with md5 19a5f85d75c8eaa96a7eba32b8e082cb and a total number of 902 components indexed\n"
     ]
    },
    {
     "name": "stdout",
     "output_type": "stream",
     "text": [
      "../config/cfg_tool_new.json\n"
     ]
    }
   ],
   "source": [
    "from dotenv import load_dotenv\n",
    "\n",
    "load_dotenv('../config/.env', override=True)\n",
    "\n",
    "import os\n",
    "from modelscope.utils.config import Config\n",
    "\n",
    "# model_cfg_file = os.getenv('LOCAL_LLM_CONFIG_FILE')\n",
    "tool_cfg_file = os.getenv('TOOL_CONFIG_FILE') \n",
    "\n",
    "# print(model_cfg_file)\n",
    "print(tool_cfg_file)\n",
    "\n",
    "# model_cfg = Config.from_file(model_cfg_file)\n",
    "tool_cfg = Config.from_file(tool_cfg_file)\n",
    "\n"
   ]
  },
  {
   "cell_type": "code",
   "execution_count": 4,
   "id": "fcefb8b4-30bd-4c21-a7a7-cf17a4230458",
   "metadata": {},
   "outputs": [],
   "source": [
    "from langchain.embeddings import ModelScopeEmbeddings, DashScopeEmbeddings\n",
    "from langchain.vectorstores import FAISS\n",
    "from modelscope_agent.retrieve import ToolRetrieval\n",
    "\n",
    "embeddings = DashScopeEmbeddings(model=\"text-embedding-v1\")\n",
    "tool_retrieval = ToolRetrieval(embeddings, FAISS) "
   ]
  },
  {
   "cell_type": "markdown",
   "id": "655856de-fb42-4e51-9a93-78da4e2617e3",
   "metadata": {},
   "source": [
    "## 本地路径"
   ]
  },
  {
   "cell_type": "code",
   "execution_count": 5,
   "id": "fbbee3d8-067b-405d-b630-2a74d4e78b5c",
   "metadata": {},
   "outputs": [
    {
     "name": "stdout",
     "output_type": "stream",
     "text": [
      "[2023-08-30 19:06:45,963] [INFO] [real_accelerator.py:133:get_accelerator] Setting ds_accelerator to cuda (auto detect)\n",
      "WARNING:tensorflow:Deprecation warnings have been disabled. Set TF_ENABLE_DEPRECATION_WARNINGS=1 to re-enable them.\n"
     ]
    },
    {
     "name": "stderr",
     "output_type": "stream",
     "text": [
      "2023-08-30 19:06:46.368738: I tensorflow/stream_executor/platform/default/dso_loader.cc:49] Successfully opened dynamic library libcudart.so.11.0\n",
      "The model is automatically converting to bf16 for faster inference. If you want to disable the automatic precision, please manually add bf16/fp16/fp32=True to \"AutoModelForCausalLM.from_pretrained\".\n"
     ]
    }
   ],
   "source": [
    "from modelscope_agent.agent import AgentExecutor\n",
    "from modelscope_agent.llm import QWen, LocalLLM\n",
    "from modelscope_agent.prompt import QWenPromptGenerator\n",
    "from modelscope_agent.output_parser import QwenOutputParser\n",
    "\n",
    "# llm = QWen(model_cfg)\n",
    "\n",
    "\n",
    "model_name = 'qwen-7b-agent'\n",
    "model_cfg = {\n",
    "    'qwen-7b-agent':{\n",
    "        'model_id': '../model/Qwen-7B-Agent',\n",
    "        'model_revision': 'v1.0.5',\n",
    "        'use_raw_generation_config': True,\n",
    "        'custom_chat': True\n",
    "    }\n",
    "}\n",
    "\n",
    "llm = LocalLLM(model_name, model_cfg)\n",
    "\n"
   ]
  },
  {
   "cell_type": "code",
   "execution_count": 6,
   "id": "2f3127e4-9731-4705-8f28-8bdd8e303e56",
   "metadata": {},
   "outputs": [],
   "source": [
    "agent = AgentExecutor(llm, tool_cfg, tool_retrieval=tool_retrieval)"
   ]
  },
  {
   "cell_type": "code",
   "execution_count": 7,
   "id": "0033690b-67dd-49d8-8ce2-5ed5f0a00584",
   "metadata": {},
   "outputs": [
    {
     "name": "stdout",
     "output_type": "stream",
     "text": [
      "raw_text: \n",
      "\n",
      "<|system|>:\n",
      "\n",
      "<|user|>:<|system|>:你是达摩院的ModelScopeGPT（魔搭助手），你是个大语言模型， 是2023年达摩院的工程师训练得到的。你有多种能力，可以通过插件集成魔搭社区的模型api来回复用户的问题，还能解答用户使用模型遇到的问题和模型知识相关问答。\n",
      "\n",
      "\n",
      "当前对话可以使用的插件信息如下，请自行判断是否需要调用插件来解决当前用户问题。若需要调用插件，则需要将插件调用请求按照json格式给出，必须包含api_name、parameters字段，并在其前后使用<|startofthink|>和<|endofthink|>作为标志。然后你需要根据插件API调用结果生成合理的答复； 若无需调用插件，则直接给出对应回复即可。\n",
      "\n",
      "1. {\"name\": \"modelscope_speech-generation\", \"description\": \"文本转语音服务，将文字转换为自然而逼真的语音，可配置男声/女声\", \"parameters\": [{\"name\": \"input\", \"description\": \"要转成语音的文本\", \"required\": true}, {\"name\": \"gender\", \"description\": \"用户身份\", \"required\": true}]}\n",
      "\n",
      "2. {\"name\": \"modelscope_text-translation-en2zh\", \"description\": \"根据输入指令，将相应的英文文本翻译成中文回复\", \"parameters\": [{\"name\": \"input\", \"description\": \"用户输入的英文文本\", \"required\": true}]}\n",
      "\n",
      "3. {\"name\": \"modelscope_text-translation-zh2en\", \"description\": \"根据输入指令，将相应的中文文本翻译成英文回复\", \"parameters\": [{\"name\": \"input\", \"description\": \"用户输入的中文文本\", \"required\": true}]}\n",
      "\n",
      "4. {\"name\": \"modelscope_image-chat\", \"description\": \"图文对话和图像描述服务，针对输入的图片和用户的文本输入，给出文本回复\", \"parameters\": [{\"name\": \"image\", \"description\": \"用户输入的图片\", \"required\": true}, {\"name\": \"text\", \"description\": \"用户输入的文本\", \"required\": true}]}\n",
      "\n",
      "5. {\"name\": \"modelscope_video-generation\", \"description\": \"视频生成服务，针对英文文本输入，生成一段描述视频；如果是中文输入同时依赖插件modelscope_text-translation-zh2en翻译成英文\", \"parameters\": [{\"name\": \"text\", \"description\": \"用户输入的文本信息\", \"required\": true}]}\n",
      "\n",
      "<|user|>:写一个 2023上海世界人工智能大会 20 字以内的口号，并念出来\n",
      "\n",
      "<|assistant|>:\n",
      "|prompt1: <|system|>:你是达摩院的ModelScopeGPT（魔搭助手），你是个大语言模型， 是2023年达摩院的工程师训练得到的。你有多种能力，可以通过插件集成魔搭社区的模型api来回复用户的问题，还能解答用户使用模型遇到的问题和模型知识相关问答。\n",
      "\n",
      "\n",
      "当前对话可以使用的插件信息如下，请自行判断是否需要调用插件来解决当前用户问题。若需要调用插件，则需要将插件调用请求按照json格式给出，必须包含api_name、parameters字段，并在其前后使用<|startofthink|>和<|endofthink|>作为标志。然后你需要根据插件API调用结果生成合理的答复； 若无需调用插件，则直接给出对应回复即可。\n",
      "\n",
      "1. {\"name\": \"modelscope_speech-generation\", \"description\": \"文本转语音服务，将文字转换为自然而逼真的语音，可配置男声/女声\", \"parameters\": [{\"name\": \"input\", \"description\": \"要转成语音的文本\", \"required\": true}, {\"name\": \"gender\", \"description\": \"用户身份\", \"required\": true}]}\n",
      "\n",
      "2. {\"name\": \"modelscope_text-translation-en2zh\", \"description\": \"根据输入指令，将相应的英文文本翻译成中文回复\", \"parameters\": [{\"name\": \"input\", \"description\": \"用户输入的英文文本\", \"required\": true}]}\n",
      "\n",
      "3. {\"name\": \"modelscope_text-translation-zh2en\", \"description\": \"根据输入指令，将相应的中文文本翻译成英文回复\", \"parameters\": [{\"name\": \"input\", \"description\": \"用户输入的中文文本\", \"required\": true}]}\n",
      "\n",
      "4. {\"name\": \"modelscope_image-chat\", \"description\": \"图文对话和图像描述服务，针对输入的图片和用户的文本输入，给出文本回复\", \"parameters\": [{\"name\": \"image\", \"description\": \"用户输入的图片\", \"required\": true}, {\"name\": \"text\", \"description\": \"用户输入的文本\", \"required\": true}]}\n",
      "\n",
      "5. {\"name\": \"modelscope_video-generation\", \"description\": \"视频生成服务，针对英文文本输入，生成一段描述视频；如果是中文输入同时依赖插件modelscope_text-translation-zh2en翻译成英文\", \"parameters\": [{\"name\": \"text\", \"description\": \"用户输入的文本信息\", \"required\": true}]}\n",
      "\n",
      "<|user|>:写一个 2023上海世界人工智能大会 20 字以内的口号，并念出来\n",
      "\n",
      "<|assistant|>:\n"
     ]
    },
    {
     "data": {
      "text/plain": [
       "**************************************************round 1**************************************************"
      ]
     },
     "metadata": {},
     "output_type": "display_data"
    },
    {
     "data": {
      "text/plain": [
       "AI创造未来，上海引领世界。 \n",
       "\n",
       "（英文翻译：AI shapes the future, Shanghai leads the world.） \n",
       "\n",
       "</s>:"
      ]
     },
     "metadata": {},
     "output_type": "display_data"
    },
    {
     "data": {
      "text/plain": [
       "[]"
      ]
     },
     "execution_count": 7,
     "metadata": {},
     "output_type": "execute_result"
    }
   ],
   "source": [
    "agent.reset()\n",
    "agent.run(\"写一个 2023上海世界人工智能大会 20 字以内的口号，并念出来\", remote=True)"
   ]
  },
  {
   "cell_type": "code",
   "execution_count": 8,
   "id": "5a76e6a6-3334-4078-b87f-60ee9eec3bac",
   "metadata": {},
   "outputs": [
    {
     "name": "stdout",
     "output_type": "stream",
     "text": [
      "raw_text: \n",
      "\n",
      "<|system|>:\n",
      "\n",
      "<|user|>:<|system|>:你是达摩院的ModelScopeGPT（魔搭助手），你是个大语言模型， 是2023年达摩院的工程师训练得到的。你有多种能力，可以通过插件集成魔搭社区的模型api来回复用户的问题，还能解答用户使用模型遇到的问题和模型知识相关问答。\n",
      "\n",
      "\n",
      "当前对话可以使用的插件信息如下，请自行判断是否需要调用插件来解决当前用户问题。若需要调用插件，则需要将插件调用请求按照json格式给出，必须包含api_name、parameters字段，并在其前后使用<|startofthink|>和<|endofthink|>作为标志。然后你需要根据插件API调用结果生成合理的答复； 若无需调用插件，则直接给出对应回复即可。\n",
      "\n",
      "1. {\"name\": \"modelscope_image-generation\", \"description\": \"图像生成服务，针对文本输入，生成对应的图片\", \"parameters\": [{\"name\": \"text\", \"description\": \"用户输入的文本信息\", \"required\": true}]}\n",
      "\n",
      "2. {\"name\": \"modelscope_image-chat\", \"description\": \"图文对话和图像描述服务，针对输入的图片和用户的文本输入，给出文本回复\", \"parameters\": [{\"name\": \"image\", \"description\": \"用户输入的图片\", \"required\": true}, {\"name\": \"text\", \"description\": \"用户输入的文本\", \"required\": true}]}\n",
      "\n",
      "3. {\"name\": \"modelscope_video-generation\", \"description\": \"视频生成服务，针对英文文本输入，生成一段描述视频；如果是中文输入同时依赖插件modelscope_text-translation-zh2en翻译成英文\", \"parameters\": [{\"name\": \"text\", \"description\": \"用户输入的文本信息\", \"required\": true}]}\n",
      "\n",
      "4. {\"name\": \"modelscope_speech-generation\", \"description\": \"文本转语音服务，将文字转换为自然而逼真的语音，可配置男声/女声\", \"parameters\": [{\"name\": \"input\", \"description\": \"要转成语音的文本\", \"required\": true}, {\"name\": \"gender\", \"description\": \"用户身份\", \"required\": true}]}\n",
      "\n",
      "5. {\"name\": \"modelscope_text-translation-en2zh\", \"description\": \"根据输入指令，将相应的英文文本翻译成中文回复\", \"parameters\": [{\"name\": \"input\", \"description\": \"用户输入的英文文本\", \"required\": true}]}\n",
      "\n",
      "<|user|>:生成一张有花有酒的图片\n",
      "\n",
      "<|assistant|>:\n",
      "|prompt1: <|system|>:你是达摩院的ModelScopeGPT（魔搭助手），你是个大语言模型， 是2023年达摩院的工程师训练得到的。你有多种能力，可以通过插件集成魔搭社区的模型api来回复用户的问题，还能解答用户使用模型遇到的问题和模型知识相关问答。\n",
      "\n",
      "\n",
      "当前对话可以使用的插件信息如下，请自行判断是否需要调用插件来解决当前用户问题。若需要调用插件，则需要将插件调用请求按照json格式给出，必须包含api_name、parameters字段，并在其前后使用<|startofthink|>和<|endofthink|>作为标志。然后你需要根据插件API调用结果生成合理的答复； 若无需调用插件，则直接给出对应回复即可。\n",
      "\n",
      "1. {\"name\": \"modelscope_image-generation\", \"description\": \"图像生成服务，针对文本输入，生成对应的图片\", \"parameters\": [{\"name\": \"text\", \"description\": \"用户输入的文本信息\", \"required\": true}]}\n",
      "\n",
      "2. {\"name\": \"modelscope_image-chat\", \"description\": \"图文对话和图像描述服务，针对输入的图片和用户的文本输入，给出文本回复\", \"parameters\": [{\"name\": \"image\", \"description\": \"用户输入的图片\", \"required\": true}, {\"name\": \"text\", \"description\": \"用户输入的文本\", \"required\": true}]}\n",
      "\n",
      "3. {\"name\": \"modelscope_video-generation\", \"description\": \"视频生成服务，针对英文文本输入，生成一段描述视频；如果是中文输入同时依赖插件modelscope_text-translation-zh2en翻译成英文\", \"parameters\": [{\"name\": \"text\", \"description\": \"用户输入的文本信息\", \"required\": true}]}\n",
      "\n",
      "4. {\"name\": \"modelscope_speech-generation\", \"description\": \"文本转语音服务，将文字转换为自然而逼真的语音，可配置男声/女声\", \"parameters\": [{\"name\": \"input\", \"description\": \"要转成语音的文本\", \"required\": true}, {\"name\": \"gender\", \"description\": \"用户身份\", \"required\": true}]}\n",
      "\n",
      "5. {\"name\": \"modelscope_text-translation-en2zh\", \"description\": \"根据输入指令，将相应的英文文本翻译成中文回复\", \"parameters\": [{\"name\": \"input\", \"description\": \"用户输入的英文文本\", \"required\": true}]}\n",
      "\n",
      "<|user|>:生成一张有花有酒的图片\n",
      "\n",
      "<|assistant|>:\n"
     ]
    },
    {
     "data": {
      "text/plain": [
       "**************************************************round 1**************************************************"
      ]
     },
     "metadata": {},
     "output_type": "display_data"
    },
    {
     "data": {
      "application/json": {
       "api_name": "modelscope_image-generation",
       "parameters": {
        "text": "一张花香和酒香交织的图片，花朵绽放，酒杯中的液体晶莹剔透，温暖的色调，细节丰富，高清，艺术家风格为莫奈，4K分辨率。"
       }
      },
      "text/plain": [
       "<IPython.core.display.JSON object>"
      ]
     },
     "metadata": {
      "application/json": {
       "expanded": false,
       "root": "root"
      }
     },
     "output_type": "display_data"
    },
    {
     "data": {
      "text/plain": []
     },
     "metadata": {},
     "output_type": "display_data"
    },
    {
     "name": "stdout",
     "output_type": "stream",
     "text": [
      "raw_text: \n",
      "\n",
      "<|system|>:\n",
      "\n",
      "<|user|>:<|system|>:你是达摩院的ModelScopeGPT（魔搭助手），你是个大语言模型， 是2023年达摩院的工程师训练得到的。你有多种能力，可以通过插件集成魔搭社区的模型api来回复用户的问题，还能解答用户使用模型遇到的问题和模型知识相关问答。\n",
      "\n",
      "\n",
      "当前对话可以使用的插件信息如下，请自行判断是否需要调用插件来解决当前用户问题。若需要调用插件，则需要将插件调用请求按照json格式给出，必须包含api_name、parameters字段，并在其前后使用<|startofthink|>和<|endofthink|>作为标志。然后你需要根据插件API调用结果生成合理的答复； 若无需调用插件，则直接给出对应回复即可。\n",
      "\n",
      "1. {\"name\": \"modelscope_image-generation\", \"description\": \"图像生成服务，针对文本输入，生成对应的图片\", \"parameters\": [{\"name\": \"text\", \"description\": \"用户输入的文本信息\", \"required\": true}]}\n",
      "\n",
      "2. {\"name\": \"modelscope_image-chat\", \"description\": \"图文对话和图像描述服务，针对输入的图片和用户的文本输入，给出文本回复\", \"parameters\": [{\"name\": \"image\", \"description\": \"用户输入的图片\", \"required\": true}, {\"name\": \"text\", \"description\": \"用户输入的文本\", \"required\": true}]}\n",
      "\n",
      "3. {\"name\": \"modelscope_video-generation\", \"description\": \"视频生成服务，针对英文文本输入，生成一段描述视频；如果是中文输入同时依赖插件modelscope_text-translation-zh2en翻译成英文\", \"parameters\": [{\"name\": \"text\", \"description\": \"用户输入的文本信息\", \"required\": true}]}\n",
      "\n",
      "4. {\"name\": \"modelscope_speech-generation\", \"description\": \"文本转语音服务，将文字转换为自然而逼真的语音，可配置男声/女声\", \"parameters\": [{\"name\": \"input\", \"description\": \"要转成语音的文本\", \"required\": true}, {\"name\": \"gender\", \"description\": \"用户身份\", \"required\": true}]}\n",
      "\n",
      "5. {\"name\": \"modelscope_text-translation-en2zh\", \"description\": \"根据输入指令，将相应的英文文本翻译成中文回复\", \"parameters\": [{\"name\": \"input\", \"description\": \"用户输入的英文文本\", \"required\": true}]}\n",
      "\n",
      "<|user|>:生成一张有花有酒的图片\n",
      "\n",
      "<|assistant|>:<|startofthink|>```JSON\n",
      "{\n",
      "   \"api_name\": \"modelscope_image-generation\",\n",
      "   \"parameters\": {\n",
      "      \"text\": \"一张花香和酒香交织的图片，花朵绽放，酒杯中的液体晶莹剔透，温暖的色调，细节丰富，高清，艺术家风格为莫奈，4K分辨率。\"\n",
      "   }\n",
      "}\n",
      "```<|endofthink|>\n",
      "\n",
      "<|startofexec|>{'result': ![IMAGEGEN](https://dashscope-result-sh.oss-cn-shanghai.aliyuncs.com/1e5e2015/20230830/1907/f2073309-e43f-406e-b562-44933620cbe6-1.png?Expires=1693480084&OSSAccessKeyId=LTAI5tQZd8AEcZX6KZV4G8qL&Signature=XSR1Eo5aTyqBooAeOr328sl0AM4%3D)}<|endofexec|>\n",
      "|prompt2: <|system|>:你是达摩院的ModelScopeGPT（魔搭助手），你是个大语言模型， 是2023年达摩院的工程师训练得到的。你有多种能力，可以通过插件集成魔搭社区的模型api来回复用户的问题，还能解答用户使用模型遇到的问题和模型知识相关问答。\n",
      "\n",
      "\n",
      "当前对话可以使用的插件信息如下，请自行判断是否需要调用插件来解决当前用户问题。若需要调用插件，则需要将插件调用请求按照json格式给出，必须包含api_name、parameters字段，并在其前后使用<|startofthink|>和<|endofthink|>作为标志。然后你需要根据插件API调用结果生成合理的答复； 若无需调用插件，则直接给出对应回复即可。\n",
      "\n",
      "1. {\"name\": \"modelscope_image-generation\", \"description\": \"图像生成服务，针对文本输入，生成对应的图片\", \"parameters\": [{\"name\": \"text\", \"description\": \"用户输入的文本信息\", \"required\": true}]}\n",
      "\n",
      "2. {\"name\": \"modelscope_image-chat\", \"description\": \"图文对话和图像描述服务，针对输入的图片和用户的文本输入，给出文本回复\", \"parameters\": [{\"name\": \"image\", \"description\": \"用户输入的图片\", \"required\": true}, {\"name\": \"text\", \"description\": \"用户输入的文本\", \"required\": true}]}\n",
      "\n",
      "3. {\"name\": \"modelscope_video-generation\", \"description\": \"视频生成服务，针对英文文本输入，生成一段描述视频；如果是中文输入同时依赖插件modelscope_text-translation-zh2en翻译成英文\", \"parameters\": [{\"name\": \"text\", \"description\": \"用户输入的文本信息\", \"required\": true}]}\n",
      "\n",
      "4. {\"name\": \"modelscope_speech-generation\", \"description\": \"文本转语音服务，将文字转换为自然而逼真的语音，可配置男声/女声\", \"parameters\": [{\"name\": \"input\", \"description\": \"要转成语音的文本\", \"required\": true}, {\"name\": \"gender\", \"description\": \"用户身份\", \"required\": true}]}\n",
      "\n",
      "5. {\"name\": \"modelscope_text-translation-en2zh\", \"description\": \"根据输入指令，将相应的英文文本翻译成中文回复\", \"parameters\": [{\"name\": \"input\", \"description\": \"用户输入的英文文本\", \"required\": true}]}\n",
      "\n",
      "<|user|>:生成一张有花有酒的图片\n",
      "\n",
      "<|assistant|>:<|startofthink|>```JSON\n",
      "{\n",
      "   \"api_name\": \"modelscope_image-generation\",\n",
      "   \"parameters\": {\n",
      "      \"text\": \"一张花香和酒香交织的图片，花朵绽放，酒杯中的液体晶莹剔透，温暖的色调，细节丰富，高清，艺术家风格为莫奈，4K分辨率。\"\n",
      "   }\n",
      "}\n",
      "```<|endofthink|>\n",
      "\n",
      "<|startofexec|>{'result': ![IMAGEGEN](https://dashscope-result-sh.oss-cn-shanghai.aliyuncs.com/1e5e2015/20230830/1907/f2073309-e43f-406e-b562-44933620cbe6-1.png?Expires=1693480084&OSSAccessKeyId=LTAI5tQZd8AEcZX6KZV4G8qL&Signature=XSR1Eo5aTyqBooAeOr328sl0AM4%3D)}<|endofexec|>\n"
     ]
    },
    {
     "data": {
      "text/plain": [
       "**************************************************round 2**************************************************"
      ]
     },
     "metadata": {},
     "output_type": "display_data"
    },
    {
     "data": {
      "text/plain": [
       "</s>"
      ]
     },
     "metadata": {},
     "output_type": "display_data"
    },
    {
     "data": {
      "text/plain": [
       "[{'result': ![IMAGEGEN](https://dashscope-result-sh.oss-cn-shanghai.aliyuncs.com/1e5e2015/20230830/1907/f2073309-e43f-406e-b562-44933620cbe6-1.png?Expires=1693480084&OSSAccessKeyId=LTAI5tQZd8AEcZX6KZV4G8qL&Signature=XSR1Eo5aTyqBooAeOr328sl0AM4%3D)}]"
      ]
     },
     "execution_count": 8,
     "metadata": {},
     "output_type": "execute_result"
    }
   ],
   "source": [
    "agent.reset()\n",
    "\n",
    "agent.run(\"生成一张有花有酒的图片\", remote=True)"
   ]
  },
  {
   "cell_type": "markdown",
   "id": "325572f8-7960-479b-a91d-052a417b66ae",
   "metadata": {},
   "source": [
    "## 从modelscope拉"
   ]
  },
  {
   "cell_type": "code",
   "execution_count": 9,
   "id": "ed061825-7e6a-4edd-bc27-ffb97b168681",
   "metadata": {},
   "outputs": [
    {
     "name": "stderr",
     "output_type": "stream",
     "text": [
      "2023-08-30 19:12:47,372 - modelscope - INFO - Use user-specified model revision: v1.0.0\n",
      "The model is automatically converting to bf16 for faster inference. If you want to disable the automatic precision, please manually add bf16/fp16/fp32=True to \"AutoModelForCausalLM.from_pretrained\".\n"
     ]
    }
   ],
   "source": [
    "model_name = 'qwen-7b-agent'\n",
    "model_cfg = {\n",
    "    'qwen-7b-agent':{\n",
    "        'model_id': 'damo/MSAgent-Qwen-7B',\n",
    "        'model_revision': 'v1.0.0',\n",
    "        'use_raw_generation_config': True,\n",
    "        'custom_chat': True\n",
    "    }\n",
    "}\n",
    "\n",
    "\n",
    "llm2 = LocalLLM(model_name, model_cfg)\n"
   ]
  },
  {
   "cell_type": "code",
   "execution_count": 10,
   "id": "5f65059d-9a54-42b8-bb26-7f320e3bfbc0",
   "metadata": {},
   "outputs": [],
   "source": [
    "agent2 = AgentExecutor(llm, tool_cfg, tool_retrieval=tool_retrieval)"
   ]
  },
  {
   "cell_type": "code",
   "execution_count": 11,
   "id": "7eed2650-f9ba-4d09-86d1-58e24ab27b38",
   "metadata": {},
   "outputs": [
    {
     "name": "stdout",
     "output_type": "stream",
     "text": [
      "raw_text: \n",
      "\n",
      "<|system|>:\n",
      "\n",
      "<|user|>:<|system|>:你是达摩院的ModelScopeGPT（魔搭助手），你是个大语言模型， 是2023年达摩院的工程师训练得到的。你有多种能力，可以通过插件集成魔搭社区的模型api来回复用户的问题，还能解答用户使用模型遇到的问题和模型知识相关问答。\n",
      "\n",
      "\n",
      "当前对话可以使用的插件信息如下，请自行判断是否需要调用插件来解决当前用户问题。若需要调用插件，则需要将插件调用请求按照json格式给出，必须包含api_name、parameters字段，并在其前后使用<|startofthink|>和<|endofthink|>作为标志。然后你需要根据插件API调用结果生成合理的答复； 若无需调用插件，则直接给出对应回复即可。\n",
      "\n",
      "1. {\"name\": \"modelscope_image-generation\", \"description\": \"图像生成服务，针对文本输入，生成对应的图片\", \"parameters\": [{\"name\": \"text\", \"description\": \"用户输入的文本信息\", \"required\": true}]}\n",
      "\n",
      "2. {\"name\": \"modelscope_image-chat\", \"description\": \"图文对话和图像描述服务，针对输入的图片和用户的文本输入，给出文本回复\", \"parameters\": [{\"name\": \"image\", \"description\": \"用户输入的图片\", \"required\": true}, {\"name\": \"text\", \"description\": \"用户输入的文本\", \"required\": true}]}\n",
      "\n",
      "3. {\"name\": \"modelscope_video-generation\", \"description\": \"视频生成服务，针对英文文本输入，生成一段描述视频；如果是中文输入同时依赖插件modelscope_text-translation-zh2en翻译成英文\", \"parameters\": [{\"name\": \"text\", \"description\": \"用户输入的文本信息\", \"required\": true}]}\n",
      "\n",
      "4. {\"name\": \"modelscope_speech-generation\", \"description\": \"文本转语音服务，将文字转换为自然而逼真的语音，可配置男声/女声\", \"parameters\": [{\"name\": \"input\", \"description\": \"要转成语音的文本\", \"required\": true}, {\"name\": \"gender\", \"description\": \"用户身份\", \"required\": true}]}\n",
      "\n",
      "5. {\"name\": \"modelscope_text-translation-en2zh\", \"description\": \"根据输入指令，将相应的英文文本翻译成中文回复\", \"parameters\": [{\"name\": \"input\", \"description\": \"用户输入的英文文本\", \"required\": true}]}\n",
      "\n",
      "<|user|>:生成一张有花有酒的图片\n",
      "\n",
      "<|assistant|>:\n",
      "|prompt1: <|system|>:你是达摩院的ModelScopeGPT（魔搭助手），你是个大语言模型， 是2023年达摩院的工程师训练得到的。你有多种能力，可以通过插件集成魔搭社区的模型api来回复用户的问题，还能解答用户使用模型遇到的问题和模型知识相关问答。\n",
      "\n",
      "\n",
      "当前对话可以使用的插件信息如下，请自行判断是否需要调用插件来解决当前用户问题。若需要调用插件，则需要将插件调用请求按照json格式给出，必须包含api_name、parameters字段，并在其前后使用<|startofthink|>和<|endofthink|>作为标志。然后你需要根据插件API调用结果生成合理的答复； 若无需调用插件，则直接给出对应回复即可。\n",
      "\n",
      "1. {\"name\": \"modelscope_image-generation\", \"description\": \"图像生成服务，针对文本输入，生成对应的图片\", \"parameters\": [{\"name\": \"text\", \"description\": \"用户输入的文本信息\", \"required\": true}]}\n",
      "\n",
      "2. {\"name\": \"modelscope_image-chat\", \"description\": \"图文对话和图像描述服务，针对输入的图片和用户的文本输入，给出文本回复\", \"parameters\": [{\"name\": \"image\", \"description\": \"用户输入的图片\", \"required\": true}, {\"name\": \"text\", \"description\": \"用户输入的文本\", \"required\": true}]}\n",
      "\n",
      "3. {\"name\": \"modelscope_video-generation\", \"description\": \"视频生成服务，针对英文文本输入，生成一段描述视频；如果是中文输入同时依赖插件modelscope_text-translation-zh2en翻译成英文\", \"parameters\": [{\"name\": \"text\", \"description\": \"用户输入的文本信息\", \"required\": true}]}\n",
      "\n",
      "4. {\"name\": \"modelscope_speech-generation\", \"description\": \"文本转语音服务，将文字转换为自然而逼真的语音，可配置男声/女声\", \"parameters\": [{\"name\": \"input\", \"description\": \"要转成语音的文本\", \"required\": true}, {\"name\": \"gender\", \"description\": \"用户身份\", \"required\": true}]}\n",
      "\n",
      "5. {\"name\": \"modelscope_text-translation-en2zh\", \"description\": \"根据输入指令，将相应的英文文本翻译成中文回复\", \"parameters\": [{\"name\": \"input\", \"description\": \"用户输入的英文文本\", \"required\": true}]}\n",
      "\n",
      "<|user|>:生成一张有花有酒的图片\n",
      "\n",
      "<|assistant|>:\n"
     ]
    },
    {
     "data": {
      "text/plain": [
       "**************************************************round 1**************************************************"
      ]
     },
     "metadata": {},
     "output_type": "display_data"
    },
    {
     "data": {
      "application/json": {
       "api_name": "modelscope_image-generation",
       "parameters": {
        "text": "一朵盛开的玫瑰花，周围环绕着绿叶和金色的酒瓶，酒瓶上还有一只酒杯，画面色调温暖，具有浪漫主义的风格，渲染细腻，4K分辨率，毕加索风格。"
       }
      },
      "text/plain": [
       "<IPython.core.display.JSON object>"
      ]
     },
     "metadata": {
      "application/json": {
       "expanded": false,
       "root": "root"
      }
     },
     "output_type": "display_data"
    },
    {
     "data": {
      "text/plain": []
     },
     "metadata": {},
     "output_type": "display_data"
    },
    {
     "name": "stdout",
     "output_type": "stream",
     "text": [
      "raw_text: \n",
      "\n",
      "<|system|>:\n",
      "\n",
      "<|user|>:<|system|>:你是达摩院的ModelScopeGPT（魔搭助手），你是个大语言模型， 是2023年达摩院的工程师训练得到的。你有多种能力，可以通过插件集成魔搭社区的模型api来回复用户的问题，还能解答用户使用模型遇到的问题和模型知识相关问答。\n",
      "\n",
      "\n",
      "当前对话可以使用的插件信息如下，请自行判断是否需要调用插件来解决当前用户问题。若需要调用插件，则需要将插件调用请求按照json格式给出，必须包含api_name、parameters字段，并在其前后使用<|startofthink|>和<|endofthink|>作为标志。然后你需要根据插件API调用结果生成合理的答复； 若无需调用插件，则直接给出对应回复即可。\n",
      "\n",
      "1. {\"name\": \"modelscope_image-generation\", \"description\": \"图像生成服务，针对文本输入，生成对应的图片\", \"parameters\": [{\"name\": \"text\", \"description\": \"用户输入的文本信息\", \"required\": true}]}\n",
      "\n",
      "2. {\"name\": \"modelscope_image-chat\", \"description\": \"图文对话和图像描述服务，针对输入的图片和用户的文本输入，给出文本回复\", \"parameters\": [{\"name\": \"image\", \"description\": \"用户输入的图片\", \"required\": true}, {\"name\": \"text\", \"description\": \"用户输入的文本\", \"required\": true}]}\n",
      "\n",
      "3. {\"name\": \"modelscope_video-generation\", \"description\": \"视频生成服务，针对英文文本输入，生成一段描述视频；如果是中文输入同时依赖插件modelscope_text-translation-zh2en翻译成英文\", \"parameters\": [{\"name\": \"text\", \"description\": \"用户输入的文本信息\", \"required\": true}]}\n",
      "\n",
      "4. {\"name\": \"modelscope_speech-generation\", \"description\": \"文本转语音服务，将文字转换为自然而逼真的语音，可配置男声/女声\", \"parameters\": [{\"name\": \"input\", \"description\": \"要转成语音的文本\", \"required\": true}, {\"name\": \"gender\", \"description\": \"用户身份\", \"required\": true}]}\n",
      "\n",
      "5. {\"name\": \"modelscope_text-translation-en2zh\", \"description\": \"根据输入指令，将相应的英文文本翻译成中文回复\", \"parameters\": [{\"name\": \"input\", \"description\": \"用户输入的英文文本\", \"required\": true}]}\n",
      "\n",
      "<|user|>:生成一张有花有酒的图片\n",
      "\n",
      "<|assistant|>:<|startofthink|>```JSON\n",
      "{\n",
      "   \"api_name\": \"modelscope_image-generation\",\n",
      "   \"parameters\": {\n",
      "      \"text\": \"一朵盛开的玫瑰花，周围环绕着绿叶和金色的酒瓶，酒瓶上还有一只酒杯，画面色调温暖，具有浪漫主义的风格，渲染细腻，4K分辨率，毕加索风格。\"\n",
      "   }\n",
      "}\n",
      "```<|endofthink|>\n",
      "\n",
      "<|startofexec|>{'result': ![IMAGEGEN](https://dashscope-result-sh.oss-cn-shanghai.aliyuncs.com/1e5e2015/20230830/1913/db178fbf-fd65-4629-9cc0-9982d9c95c65-1.png?Expires=1693480425&OSSAccessKeyId=LTAI5tQZd8AEcZX6KZV4G8qL&Signature=VhR%2BmnBatv7g%2Bx%2FflPNLy78bb8U%3D)}<|endofexec|>\n",
      "|prompt2: <|system|>:你是达摩院的ModelScopeGPT（魔搭助手），你是个大语言模型， 是2023年达摩院的工程师训练得到的。你有多种能力，可以通过插件集成魔搭社区的模型api来回复用户的问题，还能解答用户使用模型遇到的问题和模型知识相关问答。\n",
      "\n",
      "\n",
      "当前对话可以使用的插件信息如下，请自行判断是否需要调用插件来解决当前用户问题。若需要调用插件，则需要将插件调用请求按照json格式给出，必须包含api_name、parameters字段，并在其前后使用<|startofthink|>和<|endofthink|>作为标志。然后你需要根据插件API调用结果生成合理的答复； 若无需调用插件，则直接给出对应回复即可。\n",
      "\n",
      "1. {\"name\": \"modelscope_image-generation\", \"description\": \"图像生成服务，针对文本输入，生成对应的图片\", \"parameters\": [{\"name\": \"text\", \"description\": \"用户输入的文本信息\", \"required\": true}]}\n",
      "\n",
      "2. {\"name\": \"modelscope_image-chat\", \"description\": \"图文对话和图像描述服务，针对输入的图片和用户的文本输入，给出文本回复\", \"parameters\": [{\"name\": \"image\", \"description\": \"用户输入的图片\", \"required\": true}, {\"name\": \"text\", \"description\": \"用户输入的文本\", \"required\": true}]}\n",
      "\n",
      "3. {\"name\": \"modelscope_video-generation\", \"description\": \"视频生成服务，针对英文文本输入，生成一段描述视频；如果是中文输入同时依赖插件modelscope_text-translation-zh2en翻译成英文\", \"parameters\": [{\"name\": \"text\", \"description\": \"用户输入的文本信息\", \"required\": true}]}\n",
      "\n",
      "4. {\"name\": \"modelscope_speech-generation\", \"description\": \"文本转语音服务，将文字转换为自然而逼真的语音，可配置男声/女声\", \"parameters\": [{\"name\": \"input\", \"description\": \"要转成语音的文本\", \"required\": true}, {\"name\": \"gender\", \"description\": \"用户身份\", \"required\": true}]}\n",
      "\n",
      "5. {\"name\": \"modelscope_text-translation-en2zh\", \"description\": \"根据输入指令，将相应的英文文本翻译成中文回复\", \"parameters\": [{\"name\": \"input\", \"description\": \"用户输入的英文文本\", \"required\": true}]}\n",
      "\n",
      "<|user|>:生成一张有花有酒的图片\n",
      "\n",
      "<|assistant|>:<|startofthink|>```JSON\n",
      "{\n",
      "   \"api_name\": \"modelscope_image-generation\",\n",
      "   \"parameters\": {\n",
      "      \"text\": \"一朵盛开的玫瑰花，周围环绕着绿叶和金色的酒瓶，酒瓶上还有一只酒杯，画面色调温暖，具有浪漫主义的风格，渲染细腻，4K分辨率，毕加索风格。\"\n",
      "   }\n",
      "}\n",
      "```<|endofthink|>\n",
      "\n",
      "<|startofexec|>{'result': ![IMAGEGEN](https://dashscope-result-sh.oss-cn-shanghai.aliyuncs.com/1e5e2015/20230830/1913/db178fbf-fd65-4629-9cc0-9982d9c95c65-1.png?Expires=1693480425&OSSAccessKeyId=LTAI5tQZd8AEcZX6KZV4G8qL&Signature=VhR%2BmnBatv7g%2Bx%2FflPNLy78bb8U%3D)}<|endofexec|>\n"
     ]
    },
    {
     "data": {
      "text/plain": [
       "**************************************************round 2**************************************************"
      ]
     },
     "metadata": {},
     "output_type": "display_data"
    },
    {
     "data": {
      "text/plain": [
       "</s>"
      ]
     },
     "metadata": {},
     "output_type": "display_data"
    },
    {
     "data": {
      "text/plain": [
       "[{'result': ![IMAGEGEN](https://dashscope-result-sh.oss-cn-shanghai.aliyuncs.com/1e5e2015/20230830/1913/db178fbf-fd65-4629-9cc0-9982d9c95c65-1.png?Expires=1693480425&OSSAccessKeyId=LTAI5tQZd8AEcZX6KZV4G8qL&Signature=VhR%2BmnBatv7g%2Bx%2FflPNLy78bb8U%3D)}]"
      ]
     },
     "execution_count": 11,
     "metadata": {},
     "output_type": "execute_result"
    }
   ],
   "source": [
    "agent2.reset()\n",
    "\n",
    "agent2.run(\"生成一张有花有酒的图片\", remote=True)"
   ]
  },
  {
   "cell_type": "code",
   "execution_count": null,
   "id": "d9fa3f5e-968b-4163-aba7-979fc7ca6a7f",
   "metadata": {},
   "outputs": [],
   "source": []
  }
 ],
 "metadata": {
  "kernelspec": {
   "display_name": "Python 3 (ipykernel)",
   "language": "python",
   "name": "python3"
  },
  "language_info": {
   "codemirror_mode": {
    "name": "ipython",
    "version": 3
   },
   "file_extension": ".py",
   "mimetype": "text/x-python",
   "name": "python",
   "nbconvert_exporter": "python",
   "pygments_lexer": "ipython3",
   "version": "3.8.16"
  }
 },
 "nbformat": 4,
 "nbformat_minor": 5
}
