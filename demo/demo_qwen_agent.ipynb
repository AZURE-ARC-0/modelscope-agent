{
 "cells": [
  {
   "cell_type": "markdown",
   "id": "cdf9e03b-a513-4b81-a75e-243f38a3c84a",
   "metadata": {},
   "source": [
    "## 初始化"
   ]
  },
  {
   "cell_type": "code",
   "execution_count": 7,
   "id": "3851d799-7162-4e73-acab-3c13cb1e43bd",
   "metadata": {},
   "outputs": [
    {
     "name": "stdout",
     "output_type": "stream",
     "text": [
      "The autoreload extension is already loaded. To reload it, use:\n",
      "  %reload_ext autoreload\n"
     ]
    }
   ],
   "source": [
    "%load_ext autoreload\n",
    "%autoreload 2\n"
   ]
  },
  {
   "cell_type": "code",
   "execution_count": 8,
   "id": "2c1ede08-857f-4592-9093-d7e5a37ce245",
   "metadata": {},
   "outputs": [],
   "source": [
    "import sys\n",
    "sys.path.append('../')\n"
   ]
  },
  {
   "cell_type": "markdown",
   "id": "ad42f062-5664-44f8-82b7-6995a4f512a0",
   "metadata": {},
   "source": [
    "## Load cfg and initialize"
   ]
  },
  {
   "cell_type": "code",
   "execution_count": 9,
   "id": "84f06ad1-34c5-4032-9254-aab88d7fe19d",
   "metadata": {},
   "outputs": [
    {
     "name": "stdout",
     "output_type": "stream",
     "text": [
      "../config/cfg_tool_new.json\n"
     ]
    }
   ],
   "source": [
    "from dotenv import load_dotenv\n",
    "\n",
    "load_dotenv('../config/.env', override=True)\n",
    "\n",
    "import os\n",
    "from modelscope.utils.config import Config\n",
    "\n",
    "# model_cfg_file = os.getenv('LOCAL_LLM_CONFIG_FILE')\n",
    "tool_cfg_file = os.getenv('TOOL_CONFIG_FILE') \n",
    "\n",
    "# print(model_cfg_file)\n",
    "print(tool_cfg_file)\n",
    "\n",
    "# model_cfg = Config.from_file(model_cfg_file)\n",
    "tool_cfg = Config.from_file(tool_cfg_file)\n",
    "\n",
    "\n",
    "model_name = 'qwen-7b-agent'\n",
    "model_cfg = {\n",
    "    'qwen-7b-agent':{\n",
    "        'model_id': '../model/Qwen-7B-Agent',\n",
    "        'model_revision': 'v1.0.5',\n",
    "        'use_raw_generation_config': True\n",
    "    }\n",
    "}"
   ]
  },
  {
   "cell_type": "code",
   "execution_count": 10,
   "id": "fcefb8b4-30bd-4c21-a7a7-cf17a4230458",
   "metadata": {},
   "outputs": [],
   "source": [
    "from langchain.embeddings import ModelScopeEmbeddings, DashScopeEmbeddings\n",
    "from langchain.vectorstores import FAISS\n",
    "from modelscope_agent.retrieve import ToolRetrieval\n",
    "\n",
    "embeddings = DashScopeEmbeddings(model=\"text-embedding-v1\")\n",
    "tool_retrieval = ToolRetrieval(embeddings, FAISS) "
   ]
  },
  {
   "cell_type": "code",
   "execution_count": 11,
   "id": "fbbee3d8-067b-405d-b630-2a74d4e78b5c",
   "metadata": {},
   "outputs": [
    {
     "name": "stderr",
     "output_type": "stream",
     "text": [
      "The model is automatically converting to bf16 for faster inference. If you want to disable the automatic precision, please manually add bf16/fp16/fp32=True to \"AutoModelForCausalLM.from_pretrained\".\n"
     ]
    }
   ],
   "source": [
    "from modelscope_agent.agent import AgentExecutor\n",
    "from modelscope_agent.llm import QWen, LocalLLM\n",
    "from modelscope_agent.prompt import QWenPromptGenerator\n",
    "from modelscope_agent.output_parser import QwenOutputParser\n",
    "\n",
    "# llm = QWen(model_cfg)\n",
    "llm = LocalLLM(model_name, model_cfg)\n",
    "# output_parser = QwenOutputParser()\n",
    "# prompt_generator = QWenPromptGenerator()\n",
    "agent = AgentExecutor(llm, tool_cfg, tool_retrieval=tool_retrieval)\n",
    "# agent = AgentExecutor(llm, tool_cfg, prompt_generator=prompt_generator, output_parser=output_parser, tool_retrieval=tool_retrieval)"
   ]
  },
  {
   "cell_type": "code",
   "execution_count": 12,
   "id": "0033690b-67dd-49d8-8ce2-5ed5f0a00584",
   "metadata": {},
   "outputs": [
    {
     "name": "stdout",
     "output_type": "stream",
     "text": [
      "|prompt1: <|system|>:你是达摩院的ModelScopeGPT（魔搭助手），你是个大语言模型， 是2023年达摩院的工程师训练得到的。你有多种能力，可以通过插件集成魔搭社区的模型api来回复用户的问题，还能解答用户使用模型遇到的问题和模型知识相关问答。\n",
      "\n",
      "\n",
      "当前对话可以使用的插件信息如下，请自行判断是否需要调用插件来解决当前用户问题。若需要调用插件，则需要将插件调用请求按照json格式给出，必须包含api_name、parameters字段，并在其前后使用<|startofthink|>和<|endofthink|>作为标志。然后你需要根据插件API调用结果生成合理的答复； 若无需调用插件，则直接给出对应回复即可。\n",
      "\n",
      "1. {\"name\": \"modelscope_speech-generation\", \"description\": \"文本转语音服务，将文字转换为自然而逼真的语音，可配置男声/女声\", \"parameters\": [{\"name\": \"input\", \"description\": \"要转成语音的文本\", \"required\": true}, {\"name\": \"gender\", \"description\": \"用户身份\", \"required\": true}]}\n",
      "\n",
      "2. {\"name\": \"modelscope_text-translation-en2zh\", \"description\": \"根据输入指令，将相应的英文文本翻译成中文回复\", \"parameters\": [{\"name\": \"input\", \"description\": \"用户输入的英文文本\", \"required\": true}]}\n",
      "\n",
      "3. {\"name\": \"modelscope_text-translation-zh2en\", \"description\": \"根据输入指令，将相应的中文文本翻译成英文回复\", \"parameters\": [{\"name\": \"input\", \"description\": \"用户输入的中文文本\", \"required\": true}]}\n",
      "\n",
      "4. {\"name\": \"modelscope_image-chat\", \"description\": \"图文对话和图像描述服务，针对输入的图片和用户的文本输入，给出文本回复\", \"parameters\": [{\"name\": \"image\", \"description\": \"用户输入的图片\", \"required\": true}, {\"name\": \"text\", \"description\": \"用户输入的文本\", \"required\": true}]}\n",
      "\n",
      "5. {\"name\": \"modelscope_video-generation\", \"description\": \"视频生成服务，针对英文文本输入，生成一段描述视频；如果是中文输入同时依赖插件modelscope_text-translation-zh2en翻译成英文\", \"parameters\": [{\"name\": \"text\", \"description\": \"用户输入的文本信息\", \"required\": true}]}\n",
      "\n",
      "<|user|>:写一个 2023上海世界人工智能大会 20 字以内的口号，并念出来\n",
      "\n",
      "<|assistant|>:\n"
     ]
    },
    {
     "data": {
      "text/plain": [
       "**************************************************round 1**************************************************"
      ]
     },
     "metadata": {},
     "output_type": "display_data"
    },
    {
     "data": {
      "text/plain": [
       "\"AI changes the game, Shanghai leads the way.\" \n",
       "\n",
       "（AI改变游戏规则，上海引领未来。）\n",
       "\n",
       "</s><|endoftext|>"
      ]
     },
     "metadata": {},
     "output_type": "display_data"
    },
    {
     "data": {
      "text/plain": [
       "[]"
      ]
     },
     "execution_count": 12,
     "metadata": {},
     "output_type": "execute_result"
    }
   ],
   "source": [
    "agent.reset()\n",
    "agent.run(\"写一个 2023上海世界人工智能大会 20 字以内的口号，并念出来\", remote=True)"
   ]
  },
  {
   "cell_type": "code",
   "execution_count": 13,
   "id": "5a76e6a6-3334-4078-b87f-60ee9eec3bac",
   "metadata": {},
   "outputs": [
    {
     "name": "stdout",
     "output_type": "stream",
     "text": [
      "|prompt1: <|system|>:你是达摩院的ModelScopeGPT（魔搭助手），你是个大语言模型， 是2023年达摩院的工程师训练得到的。你有多种能力，可以通过插件集成魔搭社区的模型api来回复用户的问题，还能解答用户使用模型遇到的问题和模型知识相关问答。\n",
      "\n",
      "\n",
      "当前对话可以使用的插件信息如下，请自行判断是否需要调用插件来解决当前用户问题。若需要调用插件，则需要将插件调用请求按照json格式给出，必须包含api_name、parameters字段，并在其前后使用<|startofthink|>和<|endofthink|>作为标志。然后你需要根据插件API调用结果生成合理的答复； 若无需调用插件，则直接给出对应回复即可。\n",
      "\n",
      "1. {\"name\": \"modelscope_image-generation\", \"description\": \"图像生成服务，针对文本输入，生成对应的图片\", \"parameters\": [{\"name\": \"text\", \"description\": \"用户输入的文本信息\", \"required\": true}]}\n",
      "\n",
      "2. {\"name\": \"modelscope_image-chat\", \"description\": \"图文对话和图像描述服务，针对输入的图片和用户的文本输入，给出文本回复\", \"parameters\": [{\"name\": \"image\", \"description\": \"用户输入的图片\", \"required\": true}, {\"name\": \"text\", \"description\": \"用户输入的文本\", \"required\": true}]}\n",
      "\n",
      "3. {\"name\": \"modelscope_video-generation\", \"description\": \"视频生成服务，针对英文文本输入，生成一段描述视频；如果是中文输入同时依赖插件modelscope_text-translation-zh2en翻译成英文\", \"parameters\": [{\"name\": \"text\", \"description\": \"用户输入的文本信息\", \"required\": true}]}\n",
      "\n",
      "4. {\"name\": \"modelscope_speech-generation\", \"description\": \"文本转语音服务，将文字转换为自然而逼真的语音，可配置男声/女声\", \"parameters\": [{\"name\": \"input\", \"description\": \"要转成语音的文本\", \"required\": true}, {\"name\": \"gender\", \"description\": \"用户身份\", \"required\": true}]}\n",
      "\n",
      "5. {\"name\": \"modelscope_text-translation-en2zh\", \"description\": \"根据输入指令，将相应的英文文本翻译成中文回复\", \"parameters\": [{\"name\": \"input\", \"description\": \"用户输入的英文文本\", \"required\": true}]}\n",
      "\n",
      "<|user|>:生成一张有花有酒的图片\n",
      "\n",
      "<|assistant|>:\n"
     ]
    },
    {
     "data": {
      "text/plain": [
       "**************************************************round 1**************************************************"
      ]
     },
     "metadata": {},
     "output_type": "display_data"
    },
    {
     "data": {
      "application/json": {
       "api_name": "modelscope_image-generation",
       "parameters": {
        "text": "一张充满花香和酒香的图片，花香四溢，酒香扑鼻，画面色彩艳丽，渲染精细，清晰高清，后印象派风格，4K分辨率。"
       }
      },
      "text/plain": [
       "<IPython.core.display.JSON object>"
      ]
     },
     "metadata": {
      "application/json": {
       "expanded": false,
       "root": "root"
      }
     },
     "output_type": "display_data"
    },
    {
     "data": {
      "text/plain": []
     },
     "metadata": {},
     "output_type": "display_data"
    },
    {
     "name": "stdout",
     "output_type": "stream",
     "text": [
      "|prompt2: <|system|>:你是达摩院的ModelScopeGPT（魔搭助手），你是个大语言模型， 是2023年达摩院的工程师训练得到的。你有多种能力，可以通过插件集成魔搭社区的模型api来回复用户的问题，还能解答用户使用模型遇到的问题和模型知识相关问答。\n",
      "\n",
      "\n",
      "当前对话可以使用的插件信息如下，请自行判断是否需要调用插件来解决当前用户问题。若需要调用插件，则需要将插件调用请求按照json格式给出，必须包含api_name、parameters字段，并在其前后使用<|startofthink|>和<|endofthink|>作为标志。然后你需要根据插件API调用结果生成合理的答复； 若无需调用插件，则直接给出对应回复即可。\n",
      "\n",
      "1. {\"name\": \"modelscope_image-generation\", \"description\": \"图像生成服务，针对文本输入，生成对应的图片\", \"parameters\": [{\"name\": \"text\", \"description\": \"用户输入的文本信息\", \"required\": true}]}\n",
      "\n",
      "2. {\"name\": \"modelscope_image-chat\", \"description\": \"图文对话和图像描述服务，针对输入的图片和用户的文本输入，给出文本回复\", \"parameters\": [{\"name\": \"image\", \"description\": \"用户输入的图片\", \"required\": true}, {\"name\": \"text\", \"description\": \"用户输入的文本\", \"required\": true}]}\n",
      "\n",
      "3. {\"name\": \"modelscope_video-generation\", \"description\": \"视频生成服务，针对英文文本输入，生成一段描述视频；如果是中文输入同时依赖插件modelscope_text-translation-zh2en翻译成英文\", \"parameters\": [{\"name\": \"text\", \"description\": \"用户输入的文本信息\", \"required\": true}]}\n",
      "\n",
      "4. {\"name\": \"modelscope_speech-generation\", \"description\": \"文本转语音服务，将文字转换为自然而逼真的语音，可配置男声/女声\", \"parameters\": [{\"name\": \"input\", \"description\": \"要转成语音的文本\", \"required\": true}, {\"name\": \"gender\", \"description\": \"用户身份\", \"required\": true}]}\n",
      "\n",
      "5. {\"name\": \"modelscope_text-translation-en2zh\", \"description\": \"根据输入指令，将相应的英文文本翻译成中文回复\", \"parameters\": [{\"name\": \"input\", \"description\": \"用户输入的英文文本\", \"required\": true}]}\n",
      "\n",
      "<|user|>:生成一张有花有酒的图片\n",
      "\n",
      "<|assistant|>:<|startofthink|>```JSON\n",
      "{\n",
      "   \"api_name\": \"modelscope_image-generation\",\n",
      "   \"parameters\": {\n",
      "      \"text\": \"一张充满花香和酒香的图片，花香四溢，酒香扑鼻，画面色彩艳丽，渲染精细，清晰高清，后印象派风格，4K分辨率。\"\n",
      "   }\n",
      "}\n",
      "```<|endofthink|>\n",
      "\n",
      "<|startofexec|>{'result': ![IMAGEGEN](https://dashscope-result-sh.oss-cn-shanghai.aliyuncs.com/1e5e2015/20230830/1505/850e8eda-ce50-44c7-bc6b-72b8bb6c532f-1.png?Expires=1693465525&OSSAccessKeyId=LTAI5tQZd8AEcZX6KZV4G8qL&Signature=n5TLEOetswe0%2BnQM4bwgKq%2Fjpjo%3D)}<|endofexec|>\n"
     ]
    },
    {
     "data": {
      "text/plain": [
       "**************************************************round 2**************************************************"
      ]
     },
     "metadata": {},
     "output_type": "display_data"
    },
    {
     "data": {
      "text/plain": [
       "\n",
       "\n",
       "</s><|endoftext|>"
      ]
     },
     "metadata": {},
     "output_type": "display_data"
    },
    {
     "data": {
      "text/plain": [
       "[{'result': ![IMAGEGEN](https://dashscope-result-sh.oss-cn-shanghai.aliyuncs.com/1e5e2015/20230830/1505/850e8eda-ce50-44c7-bc6b-72b8bb6c532f-1.png?Expires=1693465525&OSSAccessKeyId=LTAI5tQZd8AEcZX6KZV4G8qL&Signature=n5TLEOetswe0%2BnQM4bwgKq%2Fjpjo%3D)}]"
      ]
     },
     "execution_count": 13,
     "metadata": {},
     "output_type": "execute_result"
    }
   ],
   "source": [
    "agent.reset()\n",
    "\n",
    "agent.run(\"生成一张有花有酒的图片\", remote=True)"
   ]
  },
  {
   "cell_type": "code",
   "execution_count": null,
   "id": "4893759c-21cf-4fb7-9a2e-1e31186d5aec",
   "metadata": {},
   "outputs": [],
   "source": []
  }
 ],
 "metadata": {
  "kernelspec": {
   "display_name": "Python 3 (ipykernel)",
   "language": "python",
   "name": "python3"
  },
  "language_info": {
   "codemirror_mode": {
    "name": "ipython",
    "version": 3
   },
   "file_extension": ".py",
   "mimetype": "text/x-python",
   "name": "python",
   "nbconvert_exporter": "python",
   "pygments_lexer": "ipython3",
   "version": "3.8.16"
  }
 },
 "nbformat": 4,
 "nbformat_minor": 5
}
