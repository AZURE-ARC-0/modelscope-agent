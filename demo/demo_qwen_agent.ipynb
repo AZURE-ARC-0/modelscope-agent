{
 "cells": [
  {
   "cell_type": "markdown",
   "id": "cdf9e03b-a513-4b81-a75e-243f38a3c84a",
   "metadata": {},
   "source": [
    "### 初始化"
   ]
  },
  {
   "cell_type": "code",
   "execution_count": null,
   "id": "3851d799-7162-4e73-acab-3c13cb1e43bd",
   "metadata": {},
   "outputs": [],
   "source": [
    "%load_ext autoreload\n",
    "%autoreload 2\n"
   ]
  },
  {
   "cell_type": "code",
   "execution_count": null,
   "id": "2c1ede08-857f-4592-9093-d7e5a37ce245",
   "metadata": {},
   "outputs": [],
   "source": [
    "import sys\n",
    "sys.path.append('../')"
   ]
  },
  {
   "cell_type": "markdown",
   "id": "ad42f062-5664-44f8-82b7-6995a4f512a0",
   "metadata": {
    "tags": []
   },
   "source": [
    "### 读取环境变量文件和工具config配置"
   ]
  },
  {
   "cell_type": "code",
   "execution_count": null,
   "id": "84f06ad1-34c5-4032-9254-aab88d7fe19d",
   "metadata": {},
   "outputs": [],
   "source": [
    "from dotenv import load_dotenv\n",
    "import os\n",
    "from modelscope.utils.config import Config\n",
    "\n",
    "# 读取环境变量，里面需要配置modelscope token来remote调用AI模型\n",
    "load_dotenv('../config/.env', override=True)\n",
    "\n",
    "# 读取工具调用CONFIG文件，包括工具的名称和远程请求url\n",
    "tool_cfg_file = os.getenv('TOOL_CONFIG_FILE') \n",
    "print(tool_cfg_file)\n",
    "tool_cfg = Config.from_file(tool_cfg_file)"
   ]
  },
  {
   "cell_type": "markdown",
   "id": "aadebd3f-e761-4910-bffe-2a6130f50e0a",
   "metadata": {},
   "source": [
    "### 构建工具调用向量检索"
   ]
  },
  {
   "cell_type": "code",
   "execution_count": null,
   "id": "774ab665-d07f-49fb-8826-2d865393fae9",
   "metadata": {},
   "outputs": [],
   "source": [
    "from langchain.embeddings import ModelScopeEmbeddings, DashScopeEmbeddings\n",
    "from langchain.vectorstores import FAISS\n",
    "from modelscope_agent.retrieve import ToolRetrieval\n",
    "\n",
    "# 第一种向量方案，基于阿里云DashScope向量API服务方式\n",
    "embeddings = DashScopeEmbeddings(model=\"text-embedding-v1\")\n",
    "\n",
    "# 第二种向量方案，基于魔搭社区开源向量模型\n",
    "# model_id = 'damo/nlp_corom_sentence-embedding_chinese-base'\n",
    "# embeddings = ModelScopeEmbeddings(model_id=model_id)\n",
    "\n",
    "# 基于FAISS构建向量检索引擎\n",
    "tool_retrieval = ToolRetrieval(embeddings, FAISS) \n"
   ]
  },
  {
   "cell_type": "markdown",
   "id": "325572f8-7960-479b-a91d-052a417b66ae",
   "metadata": {
    "tags": []
   },
   "source": [
    "### 中枢大模型启动"
   ]
  },
  {
   "cell_type": "code",
   "execution_count": null,
   "id": "ed061825-7e6a-4edd-bc27-ffb97b168681",
   "metadata": {},
   "outputs": [],
   "source": [
    "from modelscope_agent.llm import LocalLLM\n",
    "from modelscope.hub.api import HubApi\n",
    "\n",
    "model_name = 'modelscope-agent-qwen-7b'\n",
    "model_cfg = {\n",
    "    'modelscope-agent-qwen-7b':{\n",
    "        'model_id': 'damo/MSAgent-Qwen-7B',\n",
    "        'model_revision': 'v1.0.1',\n",
    "        'use_raw_generation_config': True,\n",
    "        'custom_chat': True\n",
    "    }\n",
    "}\n",
    "\n",
    "\n",
    "llm = LocalLLM(model_name, model_cfg)\n"
   ]
  },
  {
   "cell_type": "markdown",
   "id": "32d7bd5f-2df4-436c-b92c-75b625479379",
   "metadata": {},
   "source": [
    "### Agent构建"
   ]
  },
  {
   "cell_type": "code",
   "execution_count": null,
   "id": "5f65059d-9a54-42b8-bb26-7f320e3bfbc0",
   "metadata": {},
   "outputs": [],
   "source": [
    "from modelscope_agent.prompt import MSPromptGenerator\n",
    "from modelscope_agent.agent import AgentExecutor\n",
    "\n",
    "prompt_generator = MSPromptGenerator(system_template=\"你是达摩院的ModelScopeGPT（魔搭助手），你是个大语言模型， 是2023年达摩院的工程师训练得到的。\\\n",
    "你有多种能力，可以通过插件集成魔搭社区的模型api来回复用户的问题，还能解答用户使用模型遇到的问题和模型知识相关问答。\")\n",
    "\n",
    "# 构建Agent，需要传入llm，工具配置config以及工具检索\n",
    "agent = AgentExecutor(llm, tool_cfg, tool_retrieval=tool_retrieval, prompt_generator=prompt_generator)"
   ]
  },
  {
   "cell_type": "code",
   "execution_count": null,
   "id": "7eed2650-f9ba-4d09-86d1-58e24ab27b38",
   "metadata": {},
   "outputs": [],
   "source": [
    "# 重置对话，清空对话历史\n",
    "agent.reset()\n",
    "\n",
    "# remote=True为调用modelscope api，该服务免费支持QPS较低，建议部署在本地，将remote=False\n",
    "agent.run(\"生成一张有花有酒的图片\", remote=True)"
   ]
  }
 ],
 "metadata": {
  "kernelspec": {
   "display_name": "Python 3 (ipykernel)",
   "language": "python",
   "name": "python3"
  },
  "language_info": {
   "codemirror_mode": {
    "name": "ipython",
    "version": 3
   },
   "file_extension": ".py",
   "mimetype": "text/x-python",
   "name": "python",
   "nbconvert_exporter": "python",
   "pygments_lexer": "ipython3",
   "version": "3.8.13"
  }
 },
 "nbformat": 4,
 "nbformat_minor": 5
}
