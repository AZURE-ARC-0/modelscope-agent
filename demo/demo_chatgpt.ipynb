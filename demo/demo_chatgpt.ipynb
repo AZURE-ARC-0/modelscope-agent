{
 "cells": [
  {
   "cell_type": "markdown",
   "id": "cdf9e03b-a513-4b81-a75e-243f38a3c84a",
   "metadata": {},
   "source": [
    "## 初始化"
   ]
  },
  {
   "cell_type": "code",
   "execution_count": 23,
   "id": "3851d799-7162-4e73-acab-3c13cb1e43bd",
   "metadata": {},
   "outputs": [
    {
     "name": "stdout",
     "output_type": "stream",
     "text": [
      "The autoreload extension is already loaded. To reload it, use:\n",
      "  %reload_ext autoreload\n"
     ]
    }
   ],
   "source": [
    "%load_ext autoreload\n",
    "%autoreload 2\n"
   ]
  },
  {
   "cell_type": "code",
   "execution_count": 24,
   "id": "2c1ede08-857f-4592-9093-d7e5a37ce245",
   "metadata": {},
   "outputs": [
    {
     "name": "stdout",
     "output_type": "stream",
     "text": [
      "['/mnt/workspace/code/ModelScopeGPT/agent/demo', '/opt/conda/lib/python38.zip', '/opt/conda/lib/python3.8', '/opt/conda/lib/python3.8/lib-dynload', '', '/opt/conda/lib/python3.8/site-packages', '/opt/conda/lib/python3.8/site-packages/tinycudann-1.6-py3.8-linux-x86_64.egg', '../', '../', '../']\n"
     ]
    }
   ],
   "source": [
    "import sys\n",
    "sys.path.append('../')\n",
    "\n",
    "print(sys.path)"
   ]
  },
  {
   "cell_type": "markdown",
   "id": "ad42f062-5664-44f8-82b7-6995a4f512a0",
   "metadata": {},
   "source": [
    "## Load cfg and initialize"
   ]
  },
  {
   "cell_type": "code",
   "execution_count": 25,
   "id": "84f06ad1-34c5-4032-9254-aab88d7fe19d",
   "metadata": {},
   "outputs": [
    {
     "name": "stdout",
     "output_type": "stream",
     "text": [
      "../config/cfg_model.json\n",
      "../config/cfg_tool.json\n"
     ]
    }
   ],
   "source": [
    "from dotenv import load_dotenv\n",
    "\n",
    "load_dotenv('../config/.env', override=True)\n",
    "\n",
    "import os\n",
    "\n",
    "from modelscope.utils.config import Config\n",
    "\n",
    "model_cfg_file = os.getenv('LLM_CONFIG_FILE')\n",
    "tool_cfg_file = os.getenv('TOOL_CONFIG_FILE') \n",
    "\n",
    "print(model_cfg_file)\n",
    "print(tool_cfg_file)\n",
    "\n",
    "model_cfg = Config.from_file(model_cfg_file)\n",
    "tool_cfg = Config.from_file(tool_cfg_file)"
   ]
  },
  {
   "cell_type": "code",
   "execution_count": 26,
   "id": "81a0805a-53d9-43e0-a63d-b9dd801039fa",
   "metadata": {},
   "outputs": [
    {
     "name": "stdout",
     "output_type": "stream",
     "text": [
      "{'result': 'Hello World!\\n1.txt\\ndemo_chatgpt.ipynb\\ndemo.ipynb\\ndemo_local_llm.ipynb\\nnew_directory\\ntmp\\ntool_agent_finetune\\n'}\n",
      "{'terminal': <modelscope_agent.tools.plugin_tool.LangchainTool object at 0x7fa5b48ed730>, 'read_file': <modelscope_agent.tools.plugin_tool.LangchainTool object at 0x7fa5b48ed910>}\n"
     ]
    }
   ],
   "source": [
    "# tool检验\n",
    "\n",
    "from modelscope_agent.tools import LangchainTool\n",
    "from langchain.tools import ShellTool, ReadFileTool\n",
    "\n",
    "\n",
    "shell_tool = LangchainTool(ShellTool())\n",
    "read_tool = LangchainTool(ReadFileTool())\n",
    "\n",
    "\n",
    "additional_tool_list = {\n",
    "    shell_tool.name: shell_tool,\n",
    "    read_tool.name: read_tool\n",
    "}\n",
    "\n",
    "print(shell_tool(commands=[\"echo 'Hello World!'\", \"ls\"]))\n",
    "print(additional_tool_list)\n"
   ]
  },
  {
   "cell_type": "code",
   "execution_count": 27,
   "id": "fbbee3d8-067b-405d-b630-2a74d4e78b5c",
   "metadata": {},
   "outputs": [],
   "source": [
    "from modelscope_agent.agent import AgentExecutor\n",
    "from modelscope_agent.llm.openai import OpenAi\n",
    "from modelscope_agent.prompt import DEFAULT_CHATGPT_PROMPT_TEMPLATE, MSPromptGenerator\n",
    "\n",
    "\n",
    "\n",
    "prompt_generator = MSPromptGenerator(DEFAULT_CHATGPT_PROMPT_TEMPLATE)\n",
    "llm = OpenAi(model_cfg)\n",
    "agent = AgentExecutor(llm, tool_cfg, additional_tool_list=additional_tool_list, prompt_generator=prompt_generator)\n",
    "\n",
    "available_tool_list = [\n",
    "    'terminal',\n",
    "    'read_file'\n",
    "]\n",
    "\n",
    "agent.set_available_tools(available_tool_list)"
   ]
  },
  {
   "cell_type": "markdown",
   "id": "7e8a8324-e589-47a1-b948-d2a89a75da53",
   "metadata": {
    "tags": []
   },
   "source": [
    "## tool检验"
   ]
  },
  {
   "cell_type": "code",
   "execution_count": 28,
   "id": "c680dad9-3226-4972-9bd1-4b25a9583a1e",
   "metadata": {},
   "outputs": [
    {
     "data": {
      "text/plain": [
       "**************************************************round 1**************************************************"
      ]
     },
     "metadata": {},
     "output_type": "display_data"
    },
    {
     "data": {
      "application/json": {
       "api_name": "terminal",
       "parameters": {
        "commands": "ls"
       }
      },
      "text/plain": [
       "<IPython.core.display.JSON object>"
      ]
     },
     "metadata": {
      "application/json": {
       "expanded": false,
       "root": "root"
      }
     },
     "output_type": "display_data"
    },
    {
     "data": {
      "text/plain": [
       "Sure, I can help you with that. Please use the following command:\n",
       "\n",
       "'"
      ]
     },
     "metadata": {},
     "output_type": "display_data"
    },
    {
     "name": "stdout",
     "output_type": "stream",
     "text": [
      "|action: terminal, action_args: {'commands': 'ls'}\n"
     ]
    },
    {
     "data": {
      "text/plain": [
       "**************************************************round 2**************************************************"
      ]
     },
     "metadata": {},
     "output_type": "display_data"
    },
    {
     "data": {
      "text/plain": [
       "The command 'ls' has been executed and the following files and directories have been found: 1.txt, demo_chatgpt.ipynb, demo.ipynb, demo_local_llm.ipynb, new_directory, tmp, tool_agent_finetune."
      ]
     },
     "metadata": {},
     "output_type": "display_data"
    },
    {
     "name": "stdout",
     "output_type": "stream",
     "text": [
      "|action: None, action_args: None\n"
     ]
    },
    {
     "data": {
      "text/plain": [
       "[{'result': '1.txt\\ndemo_chatgpt.ipynb\\ndemo.ipynb\\ndemo_local_llm.ipynb\\nnew_directory\\ntmp\\ntool_agent_finetune\\n'}]"
      ]
     },
     "execution_count": 28,
     "metadata": {},
     "output_type": "execute_result"
    }
   ],
   "source": [
    "agent.reset()\n",
    "agent.run('use tool to execute command \\'ls\\'')"
   ]
  },
  {
   "cell_type": "code",
   "execution_count": 29,
   "id": "58b1a8d5-8bcc-4f04-b242-2b2a314320b3",
   "metadata": {},
   "outputs": [
    {
     "data": {
      "text/plain": [
       "**************************************************round 1**************************************************"
      ]
     },
     "metadata": {},
     "output_type": "display_data"
    },
    {
     "data": {
      "application/json": {
       "api_name": "read_file",
       "parameters": {
        "file_path": "1.txt"
       }
      },
      "text/plain": [
       "<IPython.core.display.JSON object>"
      ]
     },
     "metadata": {
      "application/json": {
       "expanded": false,
       "root": "root"
      }
     },
     "output_type": "display_data"
    },
    {
     "data": {
      "text/plain": [
       "Sure, I can help you with that. To read the file content of 1.txt, we can use the \"read_file\" tool. Here is the command: \n",
       "\n",
       "'"
      ]
     },
     "metadata": {},
     "output_type": "display_data"
    },
    {
     "name": "stdout",
     "output_type": "stream",
     "text": [
      "|action: read_file, action_args: {'file_path': '1.txt'}\n"
     ]
    },
    {
     "data": {
      "text/plain": [
       "**************************************************round 2**************************************************"
      ]
     },
     "metadata": {},
     "output_type": "display_data"
    },
    {
     "data": {
      "text/plain": [
       "The content of the 1.txt file is \"hello!\"."
      ]
     },
     "metadata": {},
     "output_type": "display_data"
    },
    {
     "name": "stdout",
     "output_type": "stream",
     "text": [
      "|action: None, action_args: None\n"
     ]
    },
    {
     "data": {
      "text/plain": [
       "[{'result': 'hello!'}]"
      ]
     },
     "execution_count": 29,
     "metadata": {},
     "output_type": "execute_result"
    }
   ],
   "source": [
    "agent.reset()\n",
    "agent.run('please help read the file content of 1.txt')"
   ]
  },
  {
   "cell_type": "code",
   "execution_count": null,
   "id": "c3aab687-9c54-435b-930c-74c60d88f253",
   "metadata": {},
   "outputs": [],
   "source": [
    "from modelscope_agent.tools import HFTool\n",
    "\n",
    "\n",
    "hf_text_translation_tool = HFTool()\n",
    "\n",
    "additional_tool_list = {\n",
    "    'hf_text_translation': hf_text_translation_tool\n",
    "}\n",
    "\n",
    "agent = AgentExecutor(llm, tool_cfg, additional_tool_list=additional_tool_list, prompt_generator=prompt_generator)\n",
    "agent.reset()\n",
    "\n",
    "available_tool_list = [\n",
    "    'hf_text_translation'\n",
    "]\n",
    "agent.set_available_tools(available_tool_list)\n",
    "agent.run(\"translate the following English into French: 'hello' \")"
   ]
  },
  {
   "cell_type": "code",
   "execution_count": null,
   "id": "6a84e1bb-e643-4fcc-a416-0f8088dc6abc",
   "metadata": {},
   "outputs": [],
   "source": []
  }
 ],
 "metadata": {
  "kernelspec": {
   "display_name": "Python 3 (ipykernel)",
   "language": "python",
   "name": "python3"
  },
  "language_info": {
   "codemirror_mode": {
    "name": "ipython",
    "version": 3
   },
   "file_extension": ".py",
   "mimetype": "text/x-python",
   "name": "python",
   "nbconvert_exporter": "python",
   "pygments_lexer": "ipython3",
   "version": "3.8.16"
  }
 },
 "nbformat": 4,
 "nbformat_minor": 5
}
