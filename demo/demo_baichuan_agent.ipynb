{
 "cells": [
  {
   "cell_type": "markdown",
   "id": "cdf9e03b-a513-4b81-a75e-243f38a3c84a",
   "metadata": {},
   "source": [
    "## 初始化"
   ]
  },
  {
   "cell_type": "code",
   "execution_count": 1,
   "id": "3851d799-7162-4e73-acab-3c13cb1e43bd",
   "metadata": {},
   "outputs": [],
   "source": [
    "%load_ext autoreload\n",
    "%autoreload 2\n"
   ]
  },
  {
   "cell_type": "code",
   "execution_count": 2,
   "id": "2c1ede08-857f-4592-9093-d7e5a37ce245",
   "metadata": {},
   "outputs": [
    {
     "name": "stdout",
     "output_type": "stream",
     "text": [
      "['/mnt/workspace/code/ModelScopeGPT/agent/demo', '/opt/conda/lib/python38.zip', '/opt/conda/lib/python3.8', '/opt/conda/lib/python3.8/lib-dynload', '', '/opt/conda/lib/python3.8/site-packages', '/opt/conda/lib/python3.8/site-packages/tinycudann-1.6-py3.8-linux-x86_64.egg', '../', '../../']\n"
     ]
    }
   ],
   "source": [
    "import sys\n",
    "sys.path.append('../')\n",
    "sys.path.append('../../')\n",
    "print(sys.path)"
   ]
  },
  {
   "cell_type": "markdown",
   "id": "ad42f062-5664-44f8-82b7-6995a4f512a0",
   "metadata": {},
   "source": [
    "## Load cfg and initialize"
   ]
  },
  {
   "cell_type": "code",
   "execution_count": null,
   "id": "84f06ad1-34c5-4032-9254-aab88d7fe19d",
   "metadata": {},
   "outputs": [],
   "source": [
    "from dotenv import load_dotenv\n",
    "\n",
    "load_dotenv('../config/.env', override=True)\n",
    "\n",
    "import os\n",
    "from modelscope.utils.config import Config\n",
    "\n",
    "model_cfg_file = os.getenv('LLM_CONFIG_FILE')\n",
    "tool_cfg_file = os.getenv('TOOL_CONFIG_FILE') \n",
    "\n",
    "# print(model_cfg_file)\n",
    "print(tool_cfg_file)\n",
    "\n",
    "model_cfg = Config.from_file(model_cfg_file)\n",
    "tool_cfg = Config.from_file(tool_cfg_file)\n",
    "\n",
    "\n",
    "model_name = 'baichuan-7b'\n",
    "\n",
    "# model_cfg = {\n",
    "#     'baichuan-7b':{\n",
    "#         'model_id': 'baichuan-inc/baichuan-7B',\n",
    "#         'model_revision': 'v1.0.5',\n",
    "#         'generate_cfg': {\n",
    "#             'max_new_tokens': 512,\n",
    "#             'do_sample': True\n",
    "#         }\n",
    "#     }\n",
    "# }"
   ]
  },
  {
   "cell_type": "code",
   "execution_count": 4,
   "id": "fbbee3d8-067b-405d-b630-2a74d4e78b5c",
   "metadata": {},
   "outputs": [
    {
     "name": "stdout",
     "output_type": "stream",
     "text": [
      "[2023-08-07 11:17:04,675] [INFO] [real_accelerator.py:133:get_accelerator] Setting ds_accelerator to cuda (auto detect)\n"
     ]
    },
    {
     "name": "stderr",
     "output_type": "stream",
     "text": [
      "2023-08-07 11:17:09,460 - modelscope - INFO - Use user-specified model revision: v1.0.5\n",
      "Downloading: 100%|██████████| 27.9k/27.9k [00:00<00:00, 9.20MB/s]\n",
      "Downloading: 100%|██████████| 2.61k/2.61k [00:00<00:00, 413kB/s]\n",
      "Downloading: 100%|██████████| 11.9k/11.9k [00:00<00:00, 2.53MB/s]\n",
      "Downloading: 100%|██████████| 300k/300k [00:00<00:00, 20.0MB/s]\n"
     ]
    }
   ],
   "source": [
    "from modelscope_agent.agent import AgentExecutor\n",
    "from modelscope_agent.llm.modelscope_llm import ModelScopeLLM\n",
    "\n",
    "llm = ModelScopeLLM(model_name, model_cfg)\n",
    "agent = AgentExecutor(llm, tool_cfg)"
   ]
  },
  {
   "cell_type": "markdown",
   "id": "522adcf0-b200-44d1-b0fb-891fbd7951d9",
   "metadata": {},
   "source": [
    "## 音频生成"
   ]
  },
  {
   "cell_type": "code",
   "execution_count": 5,
   "id": "735ab9ca-62e0-4785-a672-68db9d791719",
   "metadata": {},
   "outputs": [
    {
     "name": "stdout",
     "output_type": "stream",
     "text": [
      "|prompt1: <|system|>:你是达摩院的ModelScopeGPT（魔搭助手），你是个大语言模型， 是2023年达摩院的工程师训练得到的。你有多种能力，可以通过插件集成魔搭社区的模型api来回复用户的问题，还能解答用户使用模型遇到的问题和模型知识相关问答。\n",
      " 当前对话可以使用的插件信息如下，请自行判断是否需要调用插件来解决当前用户问题。若需要调用插件，则需要将插件调用请求按照json格式给出，必须包含api_name、parameters字段，并在其前后使用<|startofthink|>和<|endofthink|>作为标志。然后你需要根据插件API调用结果生成合理的答复； 若无需调用插件，则直接给出对应回复即可。\n",
      "\n",
      "1. {\"name\": \"modelscope_speech-generation\", \"description\": \"文本转语音服务，将文字转换为自然而逼真的语音，可配置男声/女声\", \"parameters\": [{\"name\": \"input\", \"description\": \"要转成语音的文本\", \"required\": true}, {\"name\": \"gender\", \"description\": \"用户身份\", \"required\": true}]}\n",
      "\n",
      "\n",
      "\n",
      "<|user|>:写一个 2023上海世界人工智能大会 20 字以内的口号，并念出来\n",
      "\n",
      "<|assistant|>:\n"
     ]
    },
    {
     "data": {
      "text/plain": [
       "**************************************************round 1**************************************************"
      ]
     },
     "metadata": {},
     "output_type": "display_data"
    },
    {
     "data": {
      "application/json": {
       "api_name": "modelscope_speech-generation",
       "parameters": {
        "gender": "man",
        "input": "AI大会 10年，AI改变生活。"
       }
      },
      "text/plain": [
       "<IPython.core.display.JSON object>"
      ]
     },
     "metadata": {
      "application/json": {
       "expanded": false,
       "root": "root"
      }
     },
     "output_type": "display_data"
    },
    {
     "data": {
      "text/plain": [
       "AI大会 10年，AI改变生活。\n"
      ]
     },
     "metadata": {},
     "output_type": "display_data"
    },
    {
     "name": "stderr",
     "output_type": "stream",
     "text": [
      "2023-08-07 11:18:56,472 - modelscope - INFO - Model revision not specified, use the latest revision: v1.0.2\n",
      "2023-08-07 11:18:57,612 - modelscope - INFO - initiate model from /mnt/workspace/.cache/modelscope/damo/speech_sambert-hifigan_tts_zh-cn_16k\n",
      "2023-08-07 11:18:57,613 - modelscope - INFO - initiate model from location /mnt/workspace/.cache/modelscope/damo/speech_sambert-hifigan_tts_zh-cn_16k.\n",
      "2023-08-07 11:18:57,618 - modelscope - INFO - initialize model from /mnt/workspace/.cache/modelscope/damo/speech_sambert-hifigan_tts_zh-cn_16k\n",
      "2023-08-07 11:18:57,626 - modelscope - INFO - am_config=/mnt/workspace/.cache/modelscope/damo/speech_sambert-hifigan_tts_zh-cn_16k/voices/zhitian_emo/am/config.yaml voc_config=/mnt/workspace/.cache/modelscope/damo/speech_sambert-hifigan_tts_zh-cn_16k/voices/zhitian_emo/voc/config.yaml\n",
      "2023-08-07 11:18:57,626 - modelscope - INFO - audio_config=/mnt/workspace/.cache/modelscope/damo/speech_sambert-hifigan_tts_zh-cn_16k/voices/zhitian_emo/audio_config.yaml\n",
      "2023-08-07 11:18:57,627 - modelscope - INFO - am_ckpts=OrderedDict([(0, '/mnt/workspace/.cache/modelscope/damo/speech_sambert-hifigan_tts_zh-cn_16k/voices/zhitian_emo/am/ckpt/checkpoint_0.pth')])\n",
      "2023-08-07 11:18:57,627 - modelscope - INFO - voc_ckpts=OrderedDict([(0, '/mnt/workspace/.cache/modelscope/damo/speech_sambert-hifigan_tts_zh-cn_16k/voices/zhitian_emo/voc/ckpt/checkpoint_0.pth'), (1, '/mnt/workspace/.cache/modelscope/damo/speech_sambert-hifigan_tts_zh-cn_16k/voices/zhitian_emo/voc/ckpt/checkpoint_1.pth')])\n",
      "2023-08-07 11:18:57,627 - modelscope - INFO - se_path=/mnt/workspace/.cache/modelscope/damo/speech_sambert-hifigan_tts_zh-cn_16k/voices/zhitian_emo/am/se.npy se_model_path=/mnt/workspace/.cache/modelscope/damo/speech_sambert-hifigan_tts_zh-cn_16k/voices/zhitian_emo/se/ckpt/se.onnx\n",
      "2023-08-07 11:18:57,627 - modelscope - INFO - mvn_path=/mnt/workspace/.cache/modelscope/damo/speech_sambert-hifigan_tts_zh-cn_16k/voices/zhitian_emo/am/mvn.npy\n",
      "2023-08-07 11:18:57,655 - modelscope - INFO - am_config=/mnt/workspace/.cache/modelscope/damo/speech_sambert-hifigan_tts_zh-cn_16k/voices/zhibei_emo/am/config.yaml voc_config=/mnt/workspace/.cache/modelscope/damo/speech_sambert-hifigan_tts_zh-cn_16k/voices/zhibei_emo/voc/config.yaml\n",
      "2023-08-07 11:18:57,655 - modelscope - INFO - audio_config=/mnt/workspace/.cache/modelscope/damo/speech_sambert-hifigan_tts_zh-cn_16k/voices/zhibei_emo/audio_config.yaml\n",
      "2023-08-07 11:18:57,656 - modelscope - INFO - am_ckpts=OrderedDict([(0, '/mnt/workspace/.cache/modelscope/damo/speech_sambert-hifigan_tts_zh-cn_16k/voices/zhibei_emo/am/ckpt/checkpoint_0.pth')])\n",
      "2023-08-07 11:18:57,656 - modelscope - INFO - voc_ckpts=OrderedDict([(0, '/mnt/workspace/.cache/modelscope/damo/speech_sambert-hifigan_tts_zh-cn_16k/voices/zhibei_emo/voc/ckpt/checkpoint_0.pth'), (1, '/mnt/workspace/.cache/modelscope/damo/speech_sambert-hifigan_tts_zh-cn_16k/voices/zhibei_emo/voc/ckpt/checkpoint_1.pth')])\n",
      "2023-08-07 11:18:57,656 - modelscope - INFO - se_path=/mnt/workspace/.cache/modelscope/damo/speech_sambert-hifigan_tts_zh-cn_16k/voices/zhibei_emo/am/se.npy se_model_path=/mnt/workspace/.cache/modelscope/damo/speech_sambert-hifigan_tts_zh-cn_16k/voices/zhibei_emo/se/ckpt/se.onnx\n",
      "2023-08-07 11:18:57,657 - modelscope - INFO - mvn_path=/mnt/workspace/.cache/modelscope/damo/speech_sambert-hifigan_tts_zh-cn_16k/voices/zhibei_emo/am/mvn.npy\n",
      "2023-08-07 11:18:57,683 - modelscope - INFO - am_config=/mnt/workspace/.cache/modelscope/damo/speech_sambert-hifigan_tts_zh-cn_16k/voices/zhizhe_emo/am/config.yaml voc_config=/mnt/workspace/.cache/modelscope/damo/speech_sambert-hifigan_tts_zh-cn_16k/voices/zhizhe_emo/voc/config.yaml\n",
      "2023-08-07 11:18:57,684 - modelscope - INFO - audio_config=/mnt/workspace/.cache/modelscope/damo/speech_sambert-hifigan_tts_zh-cn_16k/voices/zhizhe_emo/audio_config.yaml\n",
      "2023-08-07 11:18:57,684 - modelscope - INFO - am_ckpts=OrderedDict([(0, '/mnt/workspace/.cache/modelscope/damo/speech_sambert-hifigan_tts_zh-cn_16k/voices/zhizhe_emo/am/ckpt/checkpoint_0.pth')])\n",
      "2023-08-07 11:18:57,684 - modelscope - INFO - voc_ckpts=OrderedDict([(0, '/mnt/workspace/.cache/modelscope/damo/speech_sambert-hifigan_tts_zh-cn_16k/voices/zhizhe_emo/voc/ckpt/checkpoint_0.pth'), (1, '/mnt/workspace/.cache/modelscope/damo/speech_sambert-hifigan_tts_zh-cn_16k/voices/zhizhe_emo/voc/ckpt/checkpoint_1.pth')])\n",
      "2023-08-07 11:18:57,685 - modelscope - INFO - se_path=/mnt/workspace/.cache/modelscope/damo/speech_sambert-hifigan_tts_zh-cn_16k/voices/zhizhe_emo/am/se.npy se_model_path=/mnt/workspace/.cache/modelscope/damo/speech_sambert-hifigan_tts_zh-cn_16k/voices/zhizhe_emo/se/ckpt/se.onnx\n",
      "2023-08-07 11:18:57,685 - modelscope - INFO - mvn_path=/mnt/workspace/.cache/modelscope/damo/speech_sambert-hifigan_tts_zh-cn_16k/voices/zhizhe_emo/am/mvn.npy\n",
      "2023-08-07 11:18:57,710 - modelscope - INFO - am_config=/mnt/workspace/.cache/modelscope/damo/speech_sambert-hifigan_tts_zh-cn_16k/voices/zhiyan_emo/am/config.yaml voc_config=/mnt/workspace/.cache/modelscope/damo/speech_sambert-hifigan_tts_zh-cn_16k/voices/zhiyan_emo/voc/config.yaml\n",
      "2023-08-07 11:18:57,711 - modelscope - INFO - audio_config=/mnt/workspace/.cache/modelscope/damo/speech_sambert-hifigan_tts_zh-cn_16k/voices/zhiyan_emo/audio_config.yaml\n",
      "2023-08-07 11:18:57,711 - modelscope - INFO - am_ckpts=OrderedDict([(0, '/mnt/workspace/.cache/modelscope/damo/speech_sambert-hifigan_tts_zh-cn_16k/voices/zhiyan_emo/am/ckpt/checkpoint_0.pth')])\n",
      "2023-08-07 11:18:57,712 - modelscope - INFO - voc_ckpts=OrderedDict([(0, '/mnt/workspace/.cache/modelscope/damo/speech_sambert-hifigan_tts_zh-cn_16k/voices/zhiyan_emo/voc/ckpt/checkpoint_0.pth'), (1, '/mnt/workspace/.cache/modelscope/damo/speech_sambert-hifigan_tts_zh-cn_16k/voices/zhiyan_emo/voc/ckpt/checkpoint_1.pth')])\n",
      "2023-08-07 11:18:57,712 - modelscope - INFO - se_path=/mnt/workspace/.cache/modelscope/damo/speech_sambert-hifigan_tts_zh-cn_16k/voices/zhiyan_emo/am/se.npy se_model_path=/mnt/workspace/.cache/modelscope/damo/speech_sambert-hifigan_tts_zh-cn_16k/voices/zhiyan_emo/se/ckpt/se.onnx\n",
      "2023-08-07 11:18:57,712 - modelscope - INFO - mvn_path=/mnt/workspace/.cache/modelscope/damo/speech_sambert-hifigan_tts_zh-cn_16k/voices/zhiyan_emo/am/mvn.npy\n",
      "2023-08-07 11:19:08,691 - modelscope - WARNING - No preprocessor field found in cfg.\n",
      "2023-08-07 11:19:08,692 - modelscope - WARNING - No val key and type key found in preprocessor domain of configuration.json file.\n",
      "2023-08-07 11:19:08,693 - modelscope - WARNING - Cannot find available config to build preprocessor at mode inference, current config: {'model_dir': '/mnt/workspace/.cache/modelscope/damo/speech_sambert-hifigan_tts_zh-cn_16k'}. trying to build by task and model information.\n",
      "2023-08-07 11:19:08,693 - modelscope - WARNING - No preprocessor key ('sambert-hifigan', 'text-to-speech') found in PREPROCESSOR_MAP, skip building preprocessor.\n"
     ]
    },
    {
     "name": "stdout",
     "output_type": "stream",
     "text": [
      "Load pinyin_en_mix_dict failed\n",
      "Load pinyin_en_mix_dict failed\n",
      "Load pinyin_en_mix_dict failed\n",
      "Load pinyin_en_mix_dict failed\n",
      "Load pinyin_en_mix_dict failed\n",
      "Load pinyin_en_mix_dict failed\n",
      "Load pinyin_en_mix_dict failed\n",
      "Load pinyin_en_mix_dict failed\n",
      "Load pinyin_en_mix_dict failed\n",
      "Load pinyin_en_mix_dict failed\n",
      "Load pinyin_en_mix_dict failed\n",
      "Load pinyin_en_mix_dict failed\n",
      "Load pinyin_en_mix_dict failed\n",
      "Load pinyin_en_mix_dict failed\n",
      "Load pinyin_en_mix_dict failed\n",
      "Load pinyin_en_mix_dict failed\n",
      "text.cc: festival_Text_init\n",
      "Removing weight norm...\n",
      "|prompt2: <|system|>:你是达摩院的ModelScopeGPT（魔搭助手），你是个大语言模型， 是2023年达摩院的工程师训练得到的。你有多种能力，可以通过插件集成魔搭社区的模型api来回复用户的问题，还能解答用户使用模型遇到的问题和模型知识相关问答。\n",
      " 当前对话可以使用的插件信息如下，请自行判断是否需要调用插件来解决当前用户问题。若需要调用插件，则需要将插件调用请求按照json格式给出，必须包含api_name、parameters字段，并在其前后使用<|startofthink|>和<|endofthink|>作为标志。然后你需要根据插件API调用结果生成合理的答复； 若无需调用插件，则直接给出对应回复即可。\n",
      "\n",
      "1. {\"name\": \"modelscope_speech-generation\", \"description\": \"文本转语音服务，将文字转换为自然而逼真的语音，可配置男声/女声\", \"parameters\": [{\"name\": \"input\", \"description\": \"要转成语音的文本\", \"required\": true}, {\"name\": \"gender\", \"description\": \"用户身份\", \"required\": true}]}\n",
      "\n",
      "\n",
      "\n",
      "<|user|>:写一个 2023上海世界人工智能大会 20 字以内的口号，并念出来\n",
      "\n",
      "<|assistant|>:AI大会 10年，AI改变生活。\n",
      "<|startofthink|>```JSON\n",
      "{\n",
      "   \"api_name\": \"modelscope_speech-generation\",\n",
      "   \"parameters\": {\n",
      "      \"input\": \"AI大会 10年，AI改变生活。\",\n",
      "      \"gender\": \"man\"\n",
      "   }\n",
      "}\n",
      "```<|endofthink|>\n",
      "\n",
      "<|startofexec|>{'result': <audio id=audio controls= preload=none> <source id=wav src=./tmp/tmp3fmoeia1/5b2690d1-9baa-4ad1-82d7-1d91988213c7.wav> </audio>}<|endofexec|>\n",
      "\n"
     ]
    },
    {
     "data": {
      "text/plain": [
       "**************************************************round 2**************************************************"
      ]
     },
     "metadata": {},
     "output_type": "display_data"
    },
    {
     "data": {
      "text/plain": [
       " \n",
       "\n",
       "\n",
       "\n",
       "  \n",
       "\n",
       "\n",
       "\n",
       "\n",
       "\n",
       "\n",
       " \n",
       "\n",
       "</s>"
      ]
     },
     "metadata": {},
     "output_type": "display_data"
    },
    {
     "data": {
      "text/plain": [
       "[{'result': <audio id=audio controls= preload=none> <source id=wav src=./tmp/tmp3fmoeia1/5b2690d1-9baa-4ad1-82d7-1d91988213c7.wav> </audio>}]"
      ]
     },
     "execution_count": 5,
     "metadata": {},
     "output_type": "execute_result"
    }
   ],
   "source": [
    "available_tool_list = [\n",
    "    # 'modelscope_text-translation-zh2en',\n",
    "    # 'modelscope_video-generation',\n",
    "    # 'modelscope_image-chat',\n",
    "    'modelscope_speech-generation',\n",
    "]\n",
    "agent.set_available_tools(available_tool_list)\n",
    "agent.reset()\n",
    "agent.run(\"写一个 2023上海世界人工智能大会 20 字以内的口号，并念出来\")"
   ]
  },
  {
   "cell_type": "code",
   "execution_count": null,
   "id": "5a76e6a6-3334-4078-b87f-60ee9eec3bac",
   "metadata": {},
   "outputs": [],
   "source": []
  }
 ],
 "metadata": {
  "kernelspec": {
   "display_name": "Python 3 (ipykernel)",
   "language": "python",
   "name": "python3"
  },
  "language_info": {
   "codemirror_mode": {
    "name": "ipython",
    "version": 3
   },
   "file_extension": ".py",
   "mimetype": "text/x-python",
   "name": "python",
   "nbconvert_exporter": "python",
   "pygments_lexer": "ipython3",
   "version": "3.8.16"
  }
 },
 "nbformat": 4,
 "nbformat_minor": 5
}
