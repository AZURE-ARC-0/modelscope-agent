{
 "cells": [
  {
   "cell_type": "markdown",
   "id": "cdf9e03b-a513-4b81-a75e-243f38a3c84a",
   "metadata": {},
   "source": [
    "## 初始化"
   ]
  },
  {
   "cell_type": "code",
   "execution_count": null,
   "id": "3851d799-7162-4e73-acab-3c13cb1e43bd",
   "metadata": {},
   "outputs": [],
   "source": [
    "%load_ext autoreload\n",
    "%autoreload 2"
   ]
  },
  {
   "cell_type": "code",
   "execution_count": null,
   "id": "2c1ede08-857f-4592-9093-d7e5a37ce245",
   "metadata": {},
   "outputs": [],
   "source": [
    "import sys\n",
    "sys.path.append('../')"
   ]
  },
  {
   "cell_type": "markdown",
   "id": "ad42f062-5664-44f8-82b7-6995a4f512a0",
   "metadata": {},
   "source": [
    "### 读取环境变量文件和工具config配置"
   ]
  },
  {
   "cell_type": "code",
   "execution_count": null,
   "id": "84f06ad1-34c5-4032-9254-aab88d7fe19d",
   "metadata": {},
   "outputs": [],
   "source": [
    "from dotenv import load_dotenv\n",
    "\n",
    "load_dotenv('../config/.env', override=True)\n",
    "\n",
    "import os\n",
    "from modelscope.utils.config import Config\n",
    "\n",
    "model_cfg_file = os.getenv('LLM_CONFIG_FILE')\n",
    "tool_cfg_file = os.getenv('TOOL_CONFIG_FILE') \n",
    "\n",
    "print(model_cfg_file)\n",
    "print(tool_cfg_file)\n",
    "\n",
    "model_cfg = Config.from_file(model_cfg_file)\n",
    "tool_cfg = Config.from_file(tool_cfg_file)"
   ]
  },
  {
   "cell_type": "markdown",
   "id": "71a5f182-f8a1-497e-b860-b442d6106126",
   "metadata": {
    "tags": []
   },
   "source": [
    "### 中枢大模型启动"
   ]
  },
  {
   "cell_type": "code",
   "execution_count": null,
   "id": "fbbee3d8-067b-405d-b630-2a74d4e78b5c",
   "metadata": {},
   "outputs": [],
   "source": [
    "from modelscope_agent.llm import LocalLLM\n",
    "from modelscope.hub.api import HubApi\n",
    "from modelscope_agent.agent import AgentExecutor\n",
    "\n",
    "\n",
    "model_name = 'modelscope-agent-qwen-7b'\n",
    "model_cfg = {\n",
    "    'modelscope-agent-qwen-7b':{\n",
    "        'model_id': 'damo/MSAgent-Qwen-7B',\n",
    "        'model_revision': 'v1.0.1',\n",
    "        'use_raw_generation_config': True,\n",
    "        'custom_chat': True\n",
    "    }\n",
    "}\n",
    "\n",
    "\n",
    "llm = LocalLLM(model_name, model_cfg)\n",
    "\n",
    "agent = AgentExecutor(llm, tool_cfg)"
   ]
  },
  {
   "cell_type": "markdown",
   "id": "6a2c55c7-8b24-4d48-ade6-8e1e80760172",
   "metadata": {},
   "source": [
    "### 向量库配置"
   ]
  },
  {
   "cell_type": "code",
   "execution_count": null,
   "id": "9cada29c-1892-4ec9-901f-615a3c5da0e4",
   "metadata": {},
   "outputs": [],
   "source": [
    "from langchain.embeddings import ModelScopeEmbeddings, DashScopeEmbeddings\n",
    "\n",
    "from langchain.vectorstores import FAISS\n",
    "import faiss\n",
    "\n",
    "# 开源版本的向量库配置\n",
    "model_id = 'damo/nlp_corom_sentence-embedding_chinese-base'\n",
    "embeddings = ModelScopeEmbeddings(model_id=model_id)\n",
    "\n",
    "# 基于阿里云DashScope向量Embedding的配置\n",
    "#embeddings = DashScopeEmbeddings(model=\"text-embedding-v1\")"
   ]
  },
  {
   "cell_type": "markdown",
   "id": "6965f127-1cc3-4c5d-bd25-cdc327e71415",
   "metadata": {},
   "source": [
    "### 文档库的切分处理"
   ]
  },
  {
   "cell_type": "code",
   "execution_count": null,
   "id": "b6c66f65-eda0-4b2e-9e2a-9d5ec80a74d5",
   "metadata": {},
   "outputs": [],
   "source": [
    "from langchain.document_loaders import TextLoader\n",
    "from langchain.text_splitter import CharacterTextSplitter\n",
    "import re\n",
    "from typing import List\n",
    "from modelscope.pipelines import pipeline\n",
    "\n",
    "\n",
    "# ref: https://github.com/chatchat-space/langchain-ChatGLM/blob/master/textsplitter/ali_text_splitter.py\n",
    "class AliTextSplitter(CharacterTextSplitter):\n",
    "    def __init__(self, **kwargs):\n",
    "        super().__init__(**kwargs)\n",
    "\n",
    "    def split_text(self, text: str) -> List[str]:\n",
    "\n",
    "        p = pipeline(\n",
    "            task=\"document-segmentation\",\n",
    "            model='damo/nlp_bert_document-segmentation_chinese-base',\n",
    "            device=\"cpu\")\n",
    "        result = p(documents=text)\n",
    "        sent_list = [i for i in result[\"text\"].split(\"\\n\\t\") if i]\n",
    "        return sent_list\n",
    "    \n",
    "# 导入文件\n",
    "filepaths = ['tmp/ms.txt']\n",
    "\n",
    "def load_file(filepaths, sentence_size=100):\n",
    "    textsplitter = AliTextSplitter()\n",
    "    docs = []\n",
    "    for filepath in filepaths:\n",
    "        if not filepath.lower().endswith(\".txt\"):\n",
    "            continue\n",
    "        loader = TextLoader(filepath, autodetect_encoding=True)\n",
    "        docs+=(loader.load_and_split(textsplitter))\n",
    "    \n",
    "    return docs\n",
    "docs = load_file(filepaths)"
   ]
  },
  {
   "cell_type": "code",
   "execution_count": null,
   "id": "04441b3b-d16c-4cd1-8934-bbf69bdf0ce0",
   "metadata": {},
   "outputs": [],
   "source": [
    "\n",
    "# 建立索引\n",
    "vector_store = FAISS.from_documents(docs, embeddings)\n",
    "\n",
    "top_k = 3\n",
    "def search_query_wrapper(query):\n",
    "    \n",
    "    search_docs = vector_store.similarity_search(query, k=top_k)\n",
    "    \n",
    "    search_res = '\\n'.join([f'[{idx+1}] {s.page_content}' for idx, s in enumerate(search_docs)])\n",
    "    \n",
    "    final_query = f'Web search results: \\n{search_res.strip()}\\n\\n<|user|>:{query}'\n",
    "\n",
    "    return final_query"
   ]
  },
  {
   "cell_type": "code",
   "execution_count": null,
   "id": "6590e60b-f483-43c9-94c1-7f55a9b81d10",
   "metadata": {},
   "outputs": [],
   "source": [
    "query_without_search = 'ModelScope模型可以在不联网使用吗？'\n",
    "# query = '生成一个xxx的图片，用最强大的基模型'\n",
    "\n",
    "query_with_search = search_query_wrapper(query_without_search)\n",
    "\n",
    "print(query_with_search)"
   ]
  },
  {
   "cell_type": "code",
   "execution_count": null,
   "id": "ffd7e437-1017-4e00-ace9-4780e3d90ddf",
   "metadata": {},
   "outputs": [],
   "source": [
    "agent.reset()\n",
    "agent.run(query_without_search, remote=True)"
   ]
  },
  {
   "cell_type": "code",
   "execution_count": null,
   "id": "f26e11ac-469b-44a9-9dc3-043dcf50a331",
   "metadata": {},
   "outputs": [],
   "source": [
    "agent.reset()\n",
    "agent.run(query_with_search)"
   ]
  },
  {
   "cell_type": "code",
   "execution_count": null,
   "id": "0a318c3d-dc1e-4d53-b973-4350d4d27a67",
   "metadata": {},
   "outputs": [],
   "source": []
  }
 ],
 "metadata": {
  "kernelspec": {
   "display_name": "Python 3 (ipykernel)",
   "language": "python",
   "name": "python3"
  },
  "language_info": {
   "codemirror_mode": {
    "name": "ipython",
    "version": 3
   },
   "file_extension": ".py",
   "mimetype": "text/x-python",
   "name": "python",
   "nbconvert_exporter": "python",
   "pygments_lexer": "ipython3",
   "version": "3.8.13"
  }
 },
 "nbformat": 4,
 "nbformat_minor": 5
}
